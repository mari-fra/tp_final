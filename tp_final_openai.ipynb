{
 "cells": [
  {
   "cell_type": "code",
   "execution_count": 4,
   "id": "cd1db622",
   "metadata": {},
   "outputs": [
    {
     "name": "stderr",
     "output_type": "stream",
     "text": [
      "/home/marifra/miniconda3/lib/python3.10/site-packages/pandas/core/arrays/masked.py:60: UserWarning: Pandas requires version '1.3.6' or newer of 'bottleneck' (version '1.3.5' currently installed).\n",
      "  from pandas.core import (\n"
     ]
    }
   ],
   "source": [
    "import pandas as pd"
   ]
  },
  {
   "cell_type": "code",
   "execution_count": null,
   "id": "34236a0b",
   "metadata": {},
   "outputs": [
    {
     "name": "stdout",
     "output_type": "stream",
     "text": [
      "API Key loaded: True\n"
     ]
    }
   ],
   "source": [
    "import os\n",
    "from dotenv import load_dotenv\n",
    "\n",
    "# Load environment variables from .env file\n",
    "load_dotenv()\n",
    "\n",
    "# Retrieve the key\n",
    "api_key = os.getenv(\"OPENAI_API_KEY\")\n",
    "\n",
    "print(\"API Key loaded:\", api_key is not None)"
   ]
  },
  {
   "cell_type": "code",
   "execution_count": 22,
   "id": "8bf037fe",
   "metadata": {},
   "outputs": [],
   "source": [
    "import packaging\n",
    "from openai import OpenAI\n",
    "client = OpenAI(api_key = api_key)"
   ]
  },
  {
   "cell_type": "markdown",
   "id": "ab9c1d1a",
   "metadata": {},
   "source": [
    "### Import and filter dataset based on a minimum number of samples per class\n",
    "\n",
    "The dataset contains 1588 categories"
   ]
  },
  {
   "cell_type": "code",
   "execution_count": 5,
   "id": "14c6e2eb",
   "metadata": {},
   "outputs": [],
   "source": [
    "df_input = pd.read_csv('train.csv')"
   ]
  },
  {
   "cell_type": "code",
   "execution_count": 4,
   "id": "d45b5841",
   "metadata": {},
   "outputs": [
    {
     "data": {
      "text/plain": [
       "20000000"
      ]
     },
     "execution_count": 4,
     "metadata": {},
     "output_type": "execute_result"
    }
   ],
   "source": [
    "len(df_input)"
   ]
  },
  {
   "cell_type": "code",
   "execution_count": 5,
   "id": "7e62d738",
   "metadata": {},
   "outputs": [
    {
     "data": {
      "text/plain": [
       "category\n",
       "PANTS                                   35973\n",
       "COFFEE_MAKERS                           35104\n",
       "BABY_CAR_SEATS                          34163\n",
       "MUSICAL_KEYBOARDS                       33222\n",
       "MATTRESSES                              32967\n",
       "                                        ...  \n",
       "CONSTRUCTION_LIME_BAGS                    206\n",
       "COLD_FOOD_AND_DRINK_VENDING_MACHINES      162\n",
       "PAINTBALL_SMOKE_GRENADES                  154\n",
       "COMMERCIAL_POPCORN_MACHINES               141\n",
       "HAMBURGER_FORMERS                         109\n",
       "Name: count, Length: 1588, dtype: int64"
      ]
     },
     "execution_count": 5,
     "metadata": {},
     "output_type": "execute_result"
    }
   ],
   "source": [
    "df_input['category'].value_counts()"
   ]
  },
  {
   "cell_type": "code",
   "execution_count": 6,
   "id": "42dcd73d",
   "metadata": {},
   "outputs": [],
   "source": [
    "n_sample = 1000\n",
    "min_samples = 3\n",
    "\n",
    "# Sample reproducibly\n",
    "df_sample = df_input.sample(n=n_sample, random_state=42)\n",
    "\n",
    "# Drop columns\n",
    "df_sample = df_sample.drop([\"language\", \"label_quality\"], axis=1)\n",
    "\n",
    "# Keep only categories with at least `min_samples`\n",
    "valid_categories = df_sample['category'].value_counts()\n",
    "valid_categories = valid_categories[valid_categories >= min_samples].index\n",
    "df_sample = df_sample[df_sample['category'].isin(valid_categories)]\n",
    "\n",
    "# Renamdf_input_samplee column\n",
    "df_sample = df_sample.rename(columns={'title': 'text'})"
   ]
  },
  {
   "cell_type": "code",
   "execution_count": 7,
   "id": "92d9148a",
   "metadata": {},
   "outputs": [
    {
     "data": {
      "text/plain": [
       "Index(['CV_JOINTS', 'AIR_COMPRESSORS', 'AUTOMOTIVE_SPRING_SUSPENSIONS',\n",
       "       'KEYBOARD_CONTROLLERS', 'PANTS', 'CAMERA_AND_CELLPHONE_STABILIZERS',\n",
       "       'CLEANING_CLOTHS', 'WINES', 'VEHICLE_STICKERS', 'ROLLER_SKATES',\n",
       "       'CELLPHONE_AND_TABLET_CASES', 'FABRICS', 'SHAVING_MACHINES',\n",
       "       'GLASSES_FRAMES', 'BOARD_GAMES', 'CD_AND_DVD_PLAYERS', 'SANDPAPERS',\n",
       "       'PERFUMES', 'ICE_BUCKETS', 'DECORATIVE_PAINTINGS', 'MEN_SWIMWEAR',\n",
       "       'NETWORK_SWITCHES', 'CANDLES', 'POUFS', 'ELECTRICAL_CABLES',\n",
       "       'HOME_SHELVES', 'PC_KEYBOARDS', 'VEHICLE_CLUTCH_CABLES',\n",
       "       'ALTERNATOR_PULLEYS', 'MOTORCYCLE_SEATS',\n",
       "       'GROUND_AND_WHOLE_BEANS_COFFEE', 'RACQUETS', 'DECORATIVE_VINYLS',\n",
       "       'EYESHADOWS', 'FISHING_REELS', 'FISHING_RODS', 'WRISTWATCHES',\n",
       "       'HOME_APPLIANCE_CONTACTORS_AND_RELAYS', 'BRAKE_DRUMS', 'DOLLS',\n",
       "       'AUDIO_AMPLIFIERS', 'DOORS', 'ALARM_CLOCKS', 'MOTORCYCLE_WHEEL_AXLES',\n",
       "       'CAR_ENGINE_CAMSHAFTS', 'MALE_UNDERWEAR', 'CLASSIC_CARS',\n",
       "       'POTENTIOMETERS', 'ENGINE_OIL_PRESSURE_SENSORS', 'GARDEN_HOSES',\n",
       "       'CAMPING_STOVES', 'PORTABLE_CELLPHONE_CHARGERS', 'UKULELES', 'SOFAS',\n",
       "       'PROTECTION_NETS', 'VIBRATORS', 'AV_RECEIVERS', 'HAIR_STRAIGHTENERS',\n",
       "       'WHEELS_BEARINGS', 'KITCHEN_BOWLS', 'BLANKETS', 'DEEP_FRYERS',\n",
       "       'MOTORCYCLE_BATTERIES', 'CELLPHONES', 'COMPLETE_SKATEBOARDS',\n",
       "       'AUTOMOTIVE_BATTERIES', 'SEAT_BELTS', 'MUGS', 'VESTS', 'PUZZLE_CUBES',\n",
       "       'AUTOMOTIVE_CV_JOINT_BOOTS', 'MOTORCYCLE_IGNITION_SWITCHES',\n",
       "       'AUTOMOTIVE_WATER_PUMPS'],\n",
       "      dtype='object', name='category')"
      ]
     },
     "execution_count": 7,
     "metadata": {},
     "output_type": "execute_result"
    }
   ],
   "source": [
    "valid_categories"
   ]
  },
  {
   "cell_type": "markdown",
   "id": "e0c082c5",
   "metadata": {},
   "source": [
    "##### Create some examples to use in the prompt"
   ]
  },
  {
   "cell_type": "code",
   "execution_count": 8,
   "id": "2bb2c8bf",
   "metadata": {},
   "outputs": [],
   "source": [
    "pd.reset_option('display.max_columns') \n",
    "pd.reset_option('display.max_rows')"
   ]
  },
  {
   "cell_type": "code",
   "execution_count": 7,
   "id": "cef49359",
   "metadata": {},
   "outputs": [],
   "source": [
    "n_examples = 3\n",
    "top_categories = df_input['category'].value_counts().head(n_examples).reset_index()\n",
    "examples = df_input[['title', 'category']].drop_duplicates('category', keep='first')\n",
    "examples_filtered = examples.merge(top_categories[['category']], on= 'category', how='inner')"
   ]
  },
  {
   "cell_type": "code",
   "execution_count": 8,
   "id": "e1a53c4d",
   "metadata": {},
   "outputs": [
    {
     "data": {
      "text/html": [
       "<div>\n",
       "<style scoped>\n",
       "    .dataframe tbody tr th:only-of-type {\n",
       "        vertical-align: middle;\n",
       "    }\n",
       "\n",
       "    .dataframe tbody tr th {\n",
       "        vertical-align: top;\n",
       "    }\n",
       "\n",
       "    .dataframe thead th {\n",
       "        text-align: right;\n",
       "    }\n",
       "</style>\n",
       "<table border=\"1\" class=\"dataframe\">\n",
       "  <thead>\n",
       "    <tr style=\"text-align: right;\">\n",
       "      <th></th>\n",
       "      <th>category</th>\n",
       "      <th>count</th>\n",
       "    </tr>\n",
       "  </thead>\n",
       "  <tbody>\n",
       "    <tr>\n",
       "      <th>0</th>\n",
       "      <td>PANTS</td>\n",
       "      <td>35973</td>\n",
       "    </tr>\n",
       "    <tr>\n",
       "      <th>1</th>\n",
       "      <td>COFFEE_MAKERS</td>\n",
       "      <td>35104</td>\n",
       "    </tr>\n",
       "    <tr>\n",
       "      <th>2</th>\n",
       "      <td>BABY_CAR_SEATS</td>\n",
       "      <td>34163</td>\n",
       "    </tr>\n",
       "  </tbody>\n",
       "</table>\n",
       "</div>"
      ],
      "text/plain": [
       "         category  count\n",
       "0           PANTS  35973\n",
       "1   COFFEE_MAKERS  35104\n",
       "2  BABY_CAR_SEATS  34163"
      ]
     },
     "execution_count": 8,
     "metadata": {},
     "output_type": "execute_result"
    }
   ],
   "source": [
    "top_categories"
   ]
  },
  {
   "cell_type": "code",
   "execution_count": 9,
   "id": "a21dd686",
   "metadata": {},
   "outputs": [],
   "source": [
    "few_examples = \"\"\n",
    "for row_number, row in examples_filtered.iterrows():\n",
    "    few_examples += f\"Example {row_number+1} '{row['title']}': {row['category']}\\n\""
   ]
  },
  {
   "cell_type": "code",
   "execution_count": 11,
   "id": "6810528d",
   "metadata": {},
   "outputs": [
    {
     "name": "stdout",
     "output_type": "stream",
     "text": [
      "Example 1 'Butaca  6 Cuotas Sin Interes!! Para Auto Bebesit Hasta 25kg': BABY_CAR_SEATS\n",
      "Example 2 'Cafetera De Filtro Hamilton Beach 12 Tazas': COFFEE_MAKERS\n",
      "Example 3 ' Calça Feminina Pra Mulher Gravidas Dois Bolso Cintura Alta ': PANTS\n",
      "\n"
     ]
    }
   ],
   "source": [
    "print(few_examples)"
   ]
  },
  {
   "cell_type": "markdown",
   "id": "4960081f",
   "metadata": {},
   "source": [
    "##### Create a function with the prompt to automate the classification request to AI"
   ]
  },
  {
   "cell_type": "markdown",
   "id": "e9cd044e",
   "metadata": {},
   "source": [
    "- System message: high-level, global instructions about the assistant’s role, style, and constraints.\n",
    "\n",
    "- User message: the actual classification request, including the text to classify and categories."
   ]
  },
  {
   "cell_type": "code",
   "execution_count": 10,
   "id": "ed89895c",
   "metadata": {},
   "outputs": [],
   "source": [
    "def create_classification_prompt(text_to_classify, categories):\n",
    "    category_list_str = \",\".join(categories)\n",
    "    prompt = (\n",
    "        f\"Here are some examples of classifications:\\n\"\n",
    "        f\"{few_examples}\\n\"\n",
    "        f\"Now classify the following MercadoLibre product title into one of these categories: {category_list_str}.\\n\"\n",
    "        f\"Text: \\\"{text_to_classify}\\\"\\n\"\n",
    "        f\"Classification:\"\n",
    "    )\n",
    "    return prompt"
   ]
  },
  {
   "cell_type": "code",
   "execution_count": 12,
   "id": "8e301610",
   "metadata": {},
   "outputs": [],
   "source": [
    "user_inputs = [create_classification_prompt(title, valid_categories) for title in df_sample['text']]"
   ]
  },
  {
   "cell_type": "code",
   "execution_count": 16,
   "id": "d4d32c74",
   "metadata": {},
   "outputs": [
    {
     "data": {
      "text/plain": [
       "(73, 247, 1583)"
      ]
     },
     "execution_count": 16,
     "metadata": {},
     "output_type": "execute_result"
    }
   ],
   "source": [
    "len(valid_categories), len(df_sample), len(user_inputs[1])"
   ]
  },
  {
   "cell_type": "code",
   "execution_count": 17,
   "id": "d7400b86",
   "metadata": {},
   "outputs": [
    {
     "data": {
      "text/plain": [
       "['Here are some examples of classifications:\\nExample 1 \\'Butaca  6 Cuotas Sin Interes!! Para Auto Bebesit Hasta 25kg\\': BABY_CAR_SEATS\\nExample 2 \\'Cafetera De Filtro Hamilton Beach 12 Tazas\\': COFFEE_MAKERS\\nExample 3 \\' Calça Feminina Pra Mulher Gravidas Dois Bolso Cintura Alta \\': PANTS\\n\\nNow classify the following MercadoLibre product title into one of these categories: CV_JOINTS,AIR_COMPRESSORS,AUTOMOTIVE_SPRING_SUSPENSIONS,KEYBOARD_CONTROLLERS,PANTS,CAMERA_AND_CELLPHONE_STABILIZERS,CLEANING_CLOTHS,WINES,VEHICLE_STICKERS,ROLLER_SKATES,CELLPHONE_AND_TABLET_CASES,FABRICS,SHAVING_MACHINES,GLASSES_FRAMES,BOARD_GAMES,CD_AND_DVD_PLAYERS,SANDPAPERS,PERFUMES,ICE_BUCKETS,DECORATIVE_PAINTINGS,MEN_SWIMWEAR,NETWORK_SWITCHES,CANDLES,POUFS,ELECTRICAL_CABLES,HOME_SHELVES,PC_KEYBOARDS,VEHICLE_CLUTCH_CABLES,ALTERNATOR_PULLEYS,MOTORCYCLE_SEATS,GROUND_AND_WHOLE_BEANS_COFFEE,RACQUETS,DECORATIVE_VINYLS,EYESHADOWS,FISHING_REELS,FISHING_RODS,WRISTWATCHES,HOME_APPLIANCE_CONTACTORS_AND_RELAYS,BRAKE_DRUMS,DOLLS,AUDIO_AMPLIFIERS,DOORS,ALARM_CLOCKS,MOTORCYCLE_WHEEL_AXLES,CAR_ENGINE_CAMSHAFTS,MALE_UNDERWEAR,CLASSIC_CARS,POTENTIOMETERS,ENGINE_OIL_PRESSURE_SENSORS,GARDEN_HOSES,CAMPING_STOVES,PORTABLE_CELLPHONE_CHARGERS,UKULELES,SOFAS,PROTECTION_NETS,VIBRATORS,AV_RECEIVERS,HAIR_STRAIGHTENERS,WHEELS_BEARINGS,KITCHEN_BOWLS,BLANKETS,DEEP_FRYERS,MOTORCYCLE_BATTERIES,CELLPHONES,COMPLETE_SKATEBOARDS,AUTOMOTIVE_BATTERIES,SEAT_BELTS,MUGS,VESTS,PUZZLE_CUBES,AUTOMOTIVE_CV_JOINT_BOOTS,MOTORCYCLE_IGNITION_SWITCHES,AUTOMOTIVE_WATER_PUMPS.\\nText: \"Nissan Versa \"\\nClassification:',\n",
       " 'Here are some examples of classifications:\\nExample 1 \\'Butaca  6 Cuotas Sin Interes!! Para Auto Bebesit Hasta 25kg\\': BABY_CAR_SEATS\\nExample 2 \\'Cafetera De Filtro Hamilton Beach 12 Tazas\\': COFFEE_MAKERS\\nExample 3 \\' Calça Feminina Pra Mulher Gravidas Dois Bolso Cintura Alta \\': PANTS\\n\\nNow classify the following MercadoLibre product title into one of these categories: CV_JOINTS,AIR_COMPRESSORS,AUTOMOTIVE_SPRING_SUSPENSIONS,KEYBOARD_CONTROLLERS,PANTS,CAMERA_AND_CELLPHONE_STABILIZERS,CLEANING_CLOTHS,WINES,VEHICLE_STICKERS,ROLLER_SKATES,CELLPHONE_AND_TABLET_CASES,FABRICS,SHAVING_MACHINES,GLASSES_FRAMES,BOARD_GAMES,CD_AND_DVD_PLAYERS,SANDPAPERS,PERFUMES,ICE_BUCKETS,DECORATIVE_PAINTINGS,MEN_SWIMWEAR,NETWORK_SWITCHES,CANDLES,POUFS,ELECTRICAL_CABLES,HOME_SHELVES,PC_KEYBOARDS,VEHICLE_CLUTCH_CABLES,ALTERNATOR_PULLEYS,MOTORCYCLE_SEATS,GROUND_AND_WHOLE_BEANS_COFFEE,RACQUETS,DECORATIVE_VINYLS,EYESHADOWS,FISHING_REELS,FISHING_RODS,WRISTWATCHES,HOME_APPLIANCE_CONTACTORS_AND_RELAYS,BRAKE_DRUMS,DOLLS,AUDIO_AMPLIFIERS,DOORS,ALARM_CLOCKS,MOTORCYCLE_WHEEL_AXLES,CAR_ENGINE_CAMSHAFTS,MALE_UNDERWEAR,CLASSIC_CARS,POTENTIOMETERS,ENGINE_OIL_PRESSURE_SENSORS,GARDEN_HOSES,CAMPING_STOVES,PORTABLE_CELLPHONE_CHARGERS,UKULELES,SOFAS,PROTECTION_NETS,VIBRATORS,AV_RECEIVERS,HAIR_STRAIGHTENERS,WHEELS_BEARINGS,KITCHEN_BOWLS,BLANKETS,DEEP_FRYERS,MOTORCYCLE_BATTERIES,CELLPHONES,COMPLETE_SKATEBOARDS,AUTOMOTIVE_BATTERIES,SEAT_BELTS,MUGS,VESTS,PUZZLE_CUBES,AUTOMOTIVE_CV_JOINT_BOOTS,MOTORCYCLE_IGNITION_SWITCHES,AUTOMOTIVE_WATER_PUMPS.\\nText: \"Llave Contacto Yamaha Fz 16 + Tapa Tanque Mpr\"\\nClassification:',\n",
       " 'Here are some examples of classifications:\\nExample 1 \\'Butaca  6 Cuotas Sin Interes!! Para Auto Bebesit Hasta 25kg\\': BABY_CAR_SEATS\\nExample 2 \\'Cafetera De Filtro Hamilton Beach 12 Tazas\\': COFFEE_MAKERS\\nExample 3 \\' Calça Feminina Pra Mulher Gravidas Dois Bolso Cintura Alta \\': PANTS\\n\\nNow classify the following MercadoLibre product title into one of these categories: CV_JOINTS,AIR_COMPRESSORS,AUTOMOTIVE_SPRING_SUSPENSIONS,KEYBOARD_CONTROLLERS,PANTS,CAMERA_AND_CELLPHONE_STABILIZERS,CLEANING_CLOTHS,WINES,VEHICLE_STICKERS,ROLLER_SKATES,CELLPHONE_AND_TABLET_CASES,FABRICS,SHAVING_MACHINES,GLASSES_FRAMES,BOARD_GAMES,CD_AND_DVD_PLAYERS,SANDPAPERS,PERFUMES,ICE_BUCKETS,DECORATIVE_PAINTINGS,MEN_SWIMWEAR,NETWORK_SWITCHES,CANDLES,POUFS,ELECTRICAL_CABLES,HOME_SHELVES,PC_KEYBOARDS,VEHICLE_CLUTCH_CABLES,ALTERNATOR_PULLEYS,MOTORCYCLE_SEATS,GROUND_AND_WHOLE_BEANS_COFFEE,RACQUETS,DECORATIVE_VINYLS,EYESHADOWS,FISHING_REELS,FISHING_RODS,WRISTWATCHES,HOME_APPLIANCE_CONTACTORS_AND_RELAYS,BRAKE_DRUMS,DOLLS,AUDIO_AMPLIFIERS,DOORS,ALARM_CLOCKS,MOTORCYCLE_WHEEL_AXLES,CAR_ENGINE_CAMSHAFTS,MALE_UNDERWEAR,CLASSIC_CARS,POTENTIOMETERS,ENGINE_OIL_PRESSURE_SENSORS,GARDEN_HOSES,CAMPING_STOVES,PORTABLE_CELLPHONE_CHARGERS,UKULELES,SOFAS,PROTECTION_NETS,VIBRATORS,AV_RECEIVERS,HAIR_STRAIGHTENERS,WHEELS_BEARINGS,KITCHEN_BOWLS,BLANKETS,DEEP_FRYERS,MOTORCYCLE_BATTERIES,CELLPHONES,COMPLETE_SKATEBOARDS,AUTOMOTIVE_BATTERIES,SEAT_BELTS,MUGS,VESTS,PUZZLE_CUBES,AUTOMOTIVE_CV_JOINT_BOOTS,MOTORCYCLE_IGNITION_SWITCHES,AUTOMOTIVE_WATER_PUMPS.\\nText: \"Switch Ubiquiti Unifi 8 -  Puertos Giga Administrable - Us-8\"\\nClassification:',\n",
       " 'Here are some examples of classifications:\\nExample 1 \\'Butaca  6 Cuotas Sin Interes!! Para Auto Bebesit Hasta 25kg\\': BABY_CAR_SEATS\\nExample 2 \\'Cafetera De Filtro Hamilton Beach 12 Tazas\\': COFFEE_MAKERS\\nExample 3 \\' Calça Feminina Pra Mulher Gravidas Dois Bolso Cintura Alta \\': PANTS\\n\\nNow classify the following MercadoLibre product title into one of these categories: CV_JOINTS,AIR_COMPRESSORS,AUTOMOTIVE_SPRING_SUSPENSIONS,KEYBOARD_CONTROLLERS,PANTS,CAMERA_AND_CELLPHONE_STABILIZERS,CLEANING_CLOTHS,WINES,VEHICLE_STICKERS,ROLLER_SKATES,CELLPHONE_AND_TABLET_CASES,FABRICS,SHAVING_MACHINES,GLASSES_FRAMES,BOARD_GAMES,CD_AND_DVD_PLAYERS,SANDPAPERS,PERFUMES,ICE_BUCKETS,DECORATIVE_PAINTINGS,MEN_SWIMWEAR,NETWORK_SWITCHES,CANDLES,POUFS,ELECTRICAL_CABLES,HOME_SHELVES,PC_KEYBOARDS,VEHICLE_CLUTCH_CABLES,ALTERNATOR_PULLEYS,MOTORCYCLE_SEATS,GROUND_AND_WHOLE_BEANS_COFFEE,RACQUETS,DECORATIVE_VINYLS,EYESHADOWS,FISHING_REELS,FISHING_RODS,WRISTWATCHES,HOME_APPLIANCE_CONTACTORS_AND_RELAYS,BRAKE_DRUMS,DOLLS,AUDIO_AMPLIFIERS,DOORS,ALARM_CLOCKS,MOTORCYCLE_WHEEL_AXLES,CAR_ENGINE_CAMSHAFTS,MALE_UNDERWEAR,CLASSIC_CARS,POTENTIOMETERS,ENGINE_OIL_PRESSURE_SENSORS,GARDEN_HOSES,CAMPING_STOVES,PORTABLE_CELLPHONE_CHARGERS,UKULELES,SOFAS,PROTECTION_NETS,VIBRATORS,AV_RECEIVERS,HAIR_STRAIGHTENERS,WHEELS_BEARINGS,KITCHEN_BOWLS,BLANKETS,DEEP_FRYERS,MOTORCYCLE_BATTERIES,CELLPHONES,COMPLETE_SKATEBOARDS,AUTOMOTIVE_BATTERIES,SEAT_BELTS,MUGS,VESTS,PUZZLE_CUBES,AUTOMOTIVE_CV_JOINT_BOOTS,MOTORCYCLE_IGNITION_SWITCHES,AUTOMOTIVE_WATER_PUMPS.\\nText: \"Moto G5 Libre Huella Zona Oeste \"\\nClassification:',\n",
       " 'Here are some examples of classifications:\\nExample 1 \\'Butaca  6 Cuotas Sin Interes!! Para Auto Bebesit Hasta 25kg\\': BABY_CAR_SEATS\\nExample 2 \\'Cafetera De Filtro Hamilton Beach 12 Tazas\\': COFFEE_MAKERS\\nExample 3 \\' Calça Feminina Pra Mulher Gravidas Dois Bolso Cintura Alta \\': PANTS\\n\\nNow classify the following MercadoLibre product title into one of these categories: CV_JOINTS,AIR_COMPRESSORS,AUTOMOTIVE_SPRING_SUSPENSIONS,KEYBOARD_CONTROLLERS,PANTS,CAMERA_AND_CELLPHONE_STABILIZERS,CLEANING_CLOTHS,WINES,VEHICLE_STICKERS,ROLLER_SKATES,CELLPHONE_AND_TABLET_CASES,FABRICS,SHAVING_MACHINES,GLASSES_FRAMES,BOARD_GAMES,CD_AND_DVD_PLAYERS,SANDPAPERS,PERFUMES,ICE_BUCKETS,DECORATIVE_PAINTINGS,MEN_SWIMWEAR,NETWORK_SWITCHES,CANDLES,POUFS,ELECTRICAL_CABLES,HOME_SHELVES,PC_KEYBOARDS,VEHICLE_CLUTCH_CABLES,ALTERNATOR_PULLEYS,MOTORCYCLE_SEATS,GROUND_AND_WHOLE_BEANS_COFFEE,RACQUETS,DECORATIVE_VINYLS,EYESHADOWS,FISHING_REELS,FISHING_RODS,WRISTWATCHES,HOME_APPLIANCE_CONTACTORS_AND_RELAYS,BRAKE_DRUMS,DOLLS,AUDIO_AMPLIFIERS,DOORS,ALARM_CLOCKS,MOTORCYCLE_WHEEL_AXLES,CAR_ENGINE_CAMSHAFTS,MALE_UNDERWEAR,CLASSIC_CARS,POTENTIOMETERS,ENGINE_OIL_PRESSURE_SENSORS,GARDEN_HOSES,CAMPING_STOVES,PORTABLE_CELLPHONE_CHARGERS,UKULELES,SOFAS,PROTECTION_NETS,VIBRATORS,AV_RECEIVERS,HAIR_STRAIGHTENERS,WHEELS_BEARINGS,KITCHEN_BOWLS,BLANKETS,DEEP_FRYERS,MOTORCYCLE_BATTERIES,CELLPHONES,COMPLETE_SKATEBOARDS,AUTOMOTIVE_BATTERIES,SEAT_BELTS,MUGS,VESTS,PUZZLE_CUBES,AUTOMOTIVE_CV_JOINT_BOOTS,MOTORCYCLE_IGNITION_SWITCHES,AUTOMOTIVE_WATER_PUMPS.\\nText: \"Bateria Heliar 50 Jd *** New Civic- Crv***baterias Roby***\"\\nClassification:',\n",
       " 'Here are some examples of classifications:\\nExample 1 \\'Butaca  6 Cuotas Sin Interes!! Para Auto Bebesit Hasta 25kg\\': BABY_CAR_SEATS\\nExample 2 \\'Cafetera De Filtro Hamilton Beach 12 Tazas\\': COFFEE_MAKERS\\nExample 3 \\' Calça Feminina Pra Mulher Gravidas Dois Bolso Cintura Alta \\': PANTS\\n\\nNow classify the following MercadoLibre product title into one of these categories: CV_JOINTS,AIR_COMPRESSORS,AUTOMOTIVE_SPRING_SUSPENSIONS,KEYBOARD_CONTROLLERS,PANTS,CAMERA_AND_CELLPHONE_STABILIZERS,CLEANING_CLOTHS,WINES,VEHICLE_STICKERS,ROLLER_SKATES,CELLPHONE_AND_TABLET_CASES,FABRICS,SHAVING_MACHINES,GLASSES_FRAMES,BOARD_GAMES,CD_AND_DVD_PLAYERS,SANDPAPERS,PERFUMES,ICE_BUCKETS,DECORATIVE_PAINTINGS,MEN_SWIMWEAR,NETWORK_SWITCHES,CANDLES,POUFS,ELECTRICAL_CABLES,HOME_SHELVES,PC_KEYBOARDS,VEHICLE_CLUTCH_CABLES,ALTERNATOR_PULLEYS,MOTORCYCLE_SEATS,GROUND_AND_WHOLE_BEANS_COFFEE,RACQUETS,DECORATIVE_VINYLS,EYESHADOWS,FISHING_REELS,FISHING_RODS,WRISTWATCHES,HOME_APPLIANCE_CONTACTORS_AND_RELAYS,BRAKE_DRUMS,DOLLS,AUDIO_AMPLIFIERS,DOORS,ALARM_CLOCKS,MOTORCYCLE_WHEEL_AXLES,CAR_ENGINE_CAMSHAFTS,MALE_UNDERWEAR,CLASSIC_CARS,POTENTIOMETERS,ENGINE_OIL_PRESSURE_SENSORS,GARDEN_HOSES,CAMPING_STOVES,PORTABLE_CELLPHONE_CHARGERS,UKULELES,SOFAS,PROTECTION_NETS,VIBRATORS,AV_RECEIVERS,HAIR_STRAIGHTENERS,WHEELS_BEARINGS,KITCHEN_BOWLS,BLANKETS,DEEP_FRYERS,MOTORCYCLE_BATTERIES,CELLPHONES,COMPLETE_SKATEBOARDS,AUTOMOTIVE_BATTERIES,SEAT_BELTS,MUGS,VESTS,PUZZLE_CUBES,AUTOMOTIVE_CV_JOINT_BOOTS,MOTORCYCLE_IGNITION_SWITCHES,AUTOMOTIVE_WATER_PUMPS.\\nText: \"Bomba De Agua   Skf Volkswagen 22210 8.3 L Diesel -\"\\nClassification:',\n",
       " 'Here are some examples of classifications:\\nExample 1 \\'Butaca  6 Cuotas Sin Interes!! Para Auto Bebesit Hasta 25kg\\': BABY_CAR_SEATS\\nExample 2 \\'Cafetera De Filtro Hamilton Beach 12 Tazas\\': COFFEE_MAKERS\\nExample 3 \\' Calça Feminina Pra Mulher Gravidas Dois Bolso Cintura Alta \\': PANTS\\n\\nNow classify the following MercadoLibre product title into one of these categories: CV_JOINTS,AIR_COMPRESSORS,AUTOMOTIVE_SPRING_SUSPENSIONS,KEYBOARD_CONTROLLERS,PANTS,CAMERA_AND_CELLPHONE_STABILIZERS,CLEANING_CLOTHS,WINES,VEHICLE_STICKERS,ROLLER_SKATES,CELLPHONE_AND_TABLET_CASES,FABRICS,SHAVING_MACHINES,GLASSES_FRAMES,BOARD_GAMES,CD_AND_DVD_PLAYERS,SANDPAPERS,PERFUMES,ICE_BUCKETS,DECORATIVE_PAINTINGS,MEN_SWIMWEAR,NETWORK_SWITCHES,CANDLES,POUFS,ELECTRICAL_CABLES,HOME_SHELVES,PC_KEYBOARDS,VEHICLE_CLUTCH_CABLES,ALTERNATOR_PULLEYS,MOTORCYCLE_SEATS,GROUND_AND_WHOLE_BEANS_COFFEE,RACQUETS,DECORATIVE_VINYLS,EYESHADOWS,FISHING_REELS,FISHING_RODS,WRISTWATCHES,HOME_APPLIANCE_CONTACTORS_AND_RELAYS,BRAKE_DRUMS,DOLLS,AUDIO_AMPLIFIERS,DOORS,ALARM_CLOCKS,MOTORCYCLE_WHEEL_AXLES,CAR_ENGINE_CAMSHAFTS,MALE_UNDERWEAR,CLASSIC_CARS,POTENTIOMETERS,ENGINE_OIL_PRESSURE_SENSORS,GARDEN_HOSES,CAMPING_STOVES,PORTABLE_CELLPHONE_CHARGERS,UKULELES,SOFAS,PROTECTION_NETS,VIBRATORS,AV_RECEIVERS,HAIR_STRAIGHTENERS,WHEELS_BEARINGS,KITCHEN_BOWLS,BLANKETS,DEEP_FRYERS,MOTORCYCLE_BATTERIES,CELLPHONES,COMPLETE_SKATEBOARDS,AUTOMOTIVE_BATTERIES,SEAT_BELTS,MUGS,VESTS,PUZZLE_CUBES,AUTOMOTIVE_CV_JOINT_BOOTS,MOTORCYCLE_IGNITION_SWITCHES,AUTOMOTIVE_WATER_PUMPS.\\nText: \"Tela A Cuadros\"\\nClassification:',\n",
       " 'Here are some examples of classifications:\\nExample 1 \\'Butaca  6 Cuotas Sin Interes!! Para Auto Bebesit Hasta 25kg\\': BABY_CAR_SEATS\\nExample 2 \\'Cafetera De Filtro Hamilton Beach 12 Tazas\\': COFFEE_MAKERS\\nExample 3 \\' Calça Feminina Pra Mulher Gravidas Dois Bolso Cintura Alta \\': PANTS\\n\\nNow classify the following MercadoLibre product title into one of these categories: CV_JOINTS,AIR_COMPRESSORS,AUTOMOTIVE_SPRING_SUSPENSIONS,KEYBOARD_CONTROLLERS,PANTS,CAMERA_AND_CELLPHONE_STABILIZERS,CLEANING_CLOTHS,WINES,VEHICLE_STICKERS,ROLLER_SKATES,CELLPHONE_AND_TABLET_CASES,FABRICS,SHAVING_MACHINES,GLASSES_FRAMES,BOARD_GAMES,CD_AND_DVD_PLAYERS,SANDPAPERS,PERFUMES,ICE_BUCKETS,DECORATIVE_PAINTINGS,MEN_SWIMWEAR,NETWORK_SWITCHES,CANDLES,POUFS,ELECTRICAL_CABLES,HOME_SHELVES,PC_KEYBOARDS,VEHICLE_CLUTCH_CABLES,ALTERNATOR_PULLEYS,MOTORCYCLE_SEATS,GROUND_AND_WHOLE_BEANS_COFFEE,RACQUETS,DECORATIVE_VINYLS,EYESHADOWS,FISHING_REELS,FISHING_RODS,WRISTWATCHES,HOME_APPLIANCE_CONTACTORS_AND_RELAYS,BRAKE_DRUMS,DOLLS,AUDIO_AMPLIFIERS,DOORS,ALARM_CLOCKS,MOTORCYCLE_WHEEL_AXLES,CAR_ENGINE_CAMSHAFTS,MALE_UNDERWEAR,CLASSIC_CARS,POTENTIOMETERS,ENGINE_OIL_PRESSURE_SENSORS,GARDEN_HOSES,CAMPING_STOVES,PORTABLE_CELLPHONE_CHARGERS,UKULELES,SOFAS,PROTECTION_NETS,VIBRATORS,AV_RECEIVERS,HAIR_STRAIGHTENERS,WHEELS_BEARINGS,KITCHEN_BOWLS,BLANKETS,DEEP_FRYERS,MOTORCYCLE_BATTERIES,CELLPHONES,COMPLETE_SKATEBOARDS,AUTOMOTIVE_BATTERIES,SEAT_BELTS,MUGS,VESTS,PUZZLE_CUBES,AUTOMOTIVE_CV_JOINT_BOOTS,MOTORCYCLE_IGNITION_SWITCHES,AUTOMOTIVE_WATER_PUMPS.\\nText: \"Switch Tp-link Tl-sg1016 16 Bocas 10/100 Rackeable 32 Gbps\"\\nClassification:',\n",
       " 'Here are some examples of classifications:\\nExample 1 \\'Butaca  6 Cuotas Sin Interes!! Para Auto Bebesit Hasta 25kg\\': BABY_CAR_SEATS\\nExample 2 \\'Cafetera De Filtro Hamilton Beach 12 Tazas\\': COFFEE_MAKERS\\nExample 3 \\' Calça Feminina Pra Mulher Gravidas Dois Bolso Cintura Alta \\': PANTS\\n\\nNow classify the following MercadoLibre product title into one of these categories: CV_JOINTS,AIR_COMPRESSORS,AUTOMOTIVE_SPRING_SUSPENSIONS,KEYBOARD_CONTROLLERS,PANTS,CAMERA_AND_CELLPHONE_STABILIZERS,CLEANING_CLOTHS,WINES,VEHICLE_STICKERS,ROLLER_SKATES,CELLPHONE_AND_TABLET_CASES,FABRICS,SHAVING_MACHINES,GLASSES_FRAMES,BOARD_GAMES,CD_AND_DVD_PLAYERS,SANDPAPERS,PERFUMES,ICE_BUCKETS,DECORATIVE_PAINTINGS,MEN_SWIMWEAR,NETWORK_SWITCHES,CANDLES,POUFS,ELECTRICAL_CABLES,HOME_SHELVES,PC_KEYBOARDS,VEHICLE_CLUTCH_CABLES,ALTERNATOR_PULLEYS,MOTORCYCLE_SEATS,GROUND_AND_WHOLE_BEANS_COFFEE,RACQUETS,DECORATIVE_VINYLS,EYESHADOWS,FISHING_REELS,FISHING_RODS,WRISTWATCHES,HOME_APPLIANCE_CONTACTORS_AND_RELAYS,BRAKE_DRUMS,DOLLS,AUDIO_AMPLIFIERS,DOORS,ALARM_CLOCKS,MOTORCYCLE_WHEEL_AXLES,CAR_ENGINE_CAMSHAFTS,MALE_UNDERWEAR,CLASSIC_CARS,POTENTIOMETERS,ENGINE_OIL_PRESSURE_SENSORS,GARDEN_HOSES,CAMPING_STOVES,PORTABLE_CELLPHONE_CHARGERS,UKULELES,SOFAS,PROTECTION_NETS,VIBRATORS,AV_RECEIVERS,HAIR_STRAIGHTENERS,WHEELS_BEARINGS,KITCHEN_BOWLS,BLANKETS,DEEP_FRYERS,MOTORCYCLE_BATTERIES,CELLPHONES,COMPLETE_SKATEBOARDS,AUTOMOTIVE_BATTERIES,SEAT_BELTS,MUGS,VESTS,PUZZLE_CUBES,AUTOMOTIVE_CV_JOINT_BOOTS,MOTORCYCLE_IGNITION_SWITCHES,AUTOMOTIVE_WATER_PUMPS.\\nText: \"Cinturones De Seguridad Volkswagen Vento Passat Liquido!\"\\nClassification:',\n",
       " 'Here are some examples of classifications:\\nExample 1 \\'Butaca  6 Cuotas Sin Interes!! Para Auto Bebesit Hasta 25kg\\': BABY_CAR_SEATS\\nExample 2 \\'Cafetera De Filtro Hamilton Beach 12 Tazas\\': COFFEE_MAKERS\\nExample 3 \\' Calça Feminina Pra Mulher Gravidas Dois Bolso Cintura Alta \\': PANTS\\n\\nNow classify the following MercadoLibre product title into one of these categories: CV_JOINTS,AIR_COMPRESSORS,AUTOMOTIVE_SPRING_SUSPENSIONS,KEYBOARD_CONTROLLERS,PANTS,CAMERA_AND_CELLPHONE_STABILIZERS,CLEANING_CLOTHS,WINES,VEHICLE_STICKERS,ROLLER_SKATES,CELLPHONE_AND_TABLET_CASES,FABRICS,SHAVING_MACHINES,GLASSES_FRAMES,BOARD_GAMES,CD_AND_DVD_PLAYERS,SANDPAPERS,PERFUMES,ICE_BUCKETS,DECORATIVE_PAINTINGS,MEN_SWIMWEAR,NETWORK_SWITCHES,CANDLES,POUFS,ELECTRICAL_CABLES,HOME_SHELVES,PC_KEYBOARDS,VEHICLE_CLUTCH_CABLES,ALTERNATOR_PULLEYS,MOTORCYCLE_SEATS,GROUND_AND_WHOLE_BEANS_COFFEE,RACQUETS,DECORATIVE_VINYLS,EYESHADOWS,FISHING_REELS,FISHING_RODS,WRISTWATCHES,HOME_APPLIANCE_CONTACTORS_AND_RELAYS,BRAKE_DRUMS,DOLLS,AUDIO_AMPLIFIERS,DOORS,ALARM_CLOCKS,MOTORCYCLE_WHEEL_AXLES,CAR_ENGINE_CAMSHAFTS,MALE_UNDERWEAR,CLASSIC_CARS,POTENTIOMETERS,ENGINE_OIL_PRESSURE_SENSORS,GARDEN_HOSES,CAMPING_STOVES,PORTABLE_CELLPHONE_CHARGERS,UKULELES,SOFAS,PROTECTION_NETS,VIBRATORS,AV_RECEIVERS,HAIR_STRAIGHTENERS,WHEELS_BEARINGS,KITCHEN_BOWLS,BLANKETS,DEEP_FRYERS,MOTORCYCLE_BATTERIES,CELLPHONES,COMPLETE_SKATEBOARDS,AUTOMOTIVE_BATTERIES,SEAT_BELTS,MUGS,VESTS,PUZZLE_CUBES,AUTOMOTIVE_CV_JOINT_BOOTS,MOTORCYCLE_IGNITION_SWITCHES,AUTOMOTIVE_WATER_PUMPS.\\nText: \"Algodão100g Prensado Para Polimento C/ 10 Unidades - Zigzag\"\\nClassification:']"
      ]
     },
     "execution_count": 17,
     "metadata": {},
     "output_type": "execute_result"
    }
   ],
   "source": [
    "user_inputs[:10]"
   ]
  },
  {
   "cell_type": "markdown",
   "id": "d7928ba6",
   "metadata": {},
   "source": [
    "#### Create functions to build the message and to get the responses\n",
    "\n",
    "Create a function to build the message in the expected format by the OpenAI Chat API and another to call the model and extract the responses\n",
    "\n",
    "The message has two roles: system and user"
   ]
  },
  {
   "cell_type": "code",
   "execution_count": 14,
   "id": "124aca22",
   "metadata": {},
   "outputs": [],
   "source": [
    "def format_message(role, content):\n",
    "    return {\"role\": role, \"content\": content}\n",
    "\n",
    "\n",
    "def get_response(messages):\n",
    "    completion = client.chat.completions.create(\n",
    "        model=\"gpt-5-nano\", #-- 'gpt-3.5-turbo',\n",
    "        messages=messages,\n",
    "    )\n",
    "    content = completion.choices[0].message.content\n",
    "    return content"
   ]
  },
  {
   "cell_type": "code",
   "execution_count": 15,
   "id": "e0a4dd73",
   "metadata": {},
   "outputs": [],
   "source": [
    "system_message = (\n",
    "\"You are a product classifier for MercadoLibre product titles. \"\n",
    "\"Titles may be in Spanish or Portuguese. \"\n",
    "\"Always classify them into one of the provided categories, which are in English. \"\n",
    "\"Return only the category name, without explanations or extra text. \"\n",
    "\"If no category seems perfect, choose the closest match from the list. \"\n",
    "\"Do not invent new categories.\"\n",
    ")"
   ]
  },
  {
   "cell_type": "markdown",
   "id": "5334c0e5",
   "metadata": {},
   "source": [
    "##### Set messages using the system_message and the user_inputs as output of create_classification_prompt() function."
   ]
  },
  {
   "cell_type": "code",
   "execution_count": 23,
   "id": "8463d37e",
   "metadata": {},
   "outputs": [],
   "source": [
    "responses = []\n",
    "for user_input in user_inputs:\n",
    "    messages = [format_message(\"system\", system_message),\n",
    "                format_message(\"user\", user_input)]\n",
    "    response = get_response(messages)\n",
    "    responses.append(response)"
   ]
  },
  {
   "cell_type": "code",
   "execution_count": 42,
   "id": "c0aafb6a",
   "metadata": {},
   "outputs": [
    {
     "data": {
      "text/plain": [
       "['CLASSIC_CARS',\n",
       " 'MOTORCYCLE_IGNITION_SWITCHES',\n",
       " 'NETWORK_SWITCHES',\n",
       " 'CELLPHONES',\n",
       " 'AUTOMOTIVE_BATTERIES']"
      ]
     },
     "execution_count": 42,
     "metadata": {},
     "output_type": "execute_result"
    }
   ],
   "source": [
    "responses[:5]"
   ]
  },
  {
   "cell_type": "code",
   "execution_count": 27,
   "id": "24fe6457",
   "metadata": {},
   "outputs": [],
   "source": [
    "df_sample['prediction'] = responses"
   ]
  },
  {
   "cell_type": "code",
   "execution_count": 39,
   "id": "008d2911",
   "metadata": {},
   "outputs": [
    {
     "data": {
      "text/html": [
       "<div>\n",
       "<style scoped>\n",
       "    .dataframe tbody tr th:only-of-type {\n",
       "        vertical-align: middle;\n",
       "    }\n",
       "\n",
       "    .dataframe tbody tr th {\n",
       "        vertical-align: top;\n",
       "    }\n",
       "\n",
       "    .dataframe thead th {\n",
       "        text-align: right;\n",
       "    }\n",
       "</style>\n",
       "<table border=\"1\" class=\"dataframe\">\n",
       "  <thead>\n",
       "    <tr style=\"text-align: right;\">\n",
       "      <th></th>\n",
       "      <th>text</th>\n",
       "      <th>category</th>\n",
       "      <th>predictions</th>\n",
       "      <th>prediction</th>\n",
       "    </tr>\n",
       "  </thead>\n",
       "  <tbody>\n",
       "    <tr>\n",
       "      <th>19555084</th>\n",
       "      <td>Nissan Versa</td>\n",
       "      <td>CLASSIC_CARS</td>\n",
       "      <td>CLASSIC_CARS</td>\n",
       "      <td>CLASSIC_CARS</td>\n",
       "    </tr>\n",
       "    <tr>\n",
       "      <th>831796</th>\n",
       "      <td>Llave Contacto Yamaha Fz 16 + Tapa Tanque Mpr</td>\n",
       "      <td>MOTORCYCLE_IGNITION_SWITCHES</td>\n",
       "      <td>MOTORCYCLE_IGNITION_SWITCHES</td>\n",
       "      <td>MOTORCYCLE_IGNITION_SWITCHES</td>\n",
       "    </tr>\n",
       "    <tr>\n",
       "      <th>6623530</th>\n",
       "      <td>Switch Ubiquiti Unifi 8 -  Puertos Giga Admini...</td>\n",
       "      <td>NETWORK_SWITCHES</td>\n",
       "      <td>NETWORK_SWITCHES</td>\n",
       "      <td>NETWORK_SWITCHES</td>\n",
       "    </tr>\n",
       "    <tr>\n",
       "      <th>8310326</th>\n",
       "      <td>Moto G5 Libre Huella Zona Oeste</td>\n",
       "      <td>CELLPHONES</td>\n",
       "      <td>CELLPHONES</td>\n",
       "      <td>CELLPHONES</td>\n",
       "    </tr>\n",
       "    <tr>\n",
       "      <th>14784082</th>\n",
       "      <td>Bateria Heliar 50 Jd *** New Civic- Crv***bate...</td>\n",
       "      <td>AUTOMOTIVE_BATTERIES</td>\n",
       "      <td>AUTOMOTIVE_BATTERIES</td>\n",
       "      <td>AUTOMOTIVE_BATTERIES</td>\n",
       "    </tr>\n",
       "  </tbody>\n",
       "</table>\n",
       "</div>"
      ],
      "text/plain": [
       "                                                       text  \\\n",
       "19555084                                      Nissan Versa    \n",
       "831796        Llave Contacto Yamaha Fz 16 + Tapa Tanque Mpr   \n",
       "6623530   Switch Ubiquiti Unifi 8 -  Puertos Giga Admini...   \n",
       "8310326                    Moto G5 Libre Huella Zona Oeste    \n",
       "14784082  Bateria Heliar 50 Jd *** New Civic- Crv***bate...   \n",
       "\n",
       "                              category                   predictions  \\\n",
       "19555084                  CLASSIC_CARS                  CLASSIC_CARS   \n",
       "831796    MOTORCYCLE_IGNITION_SWITCHES  MOTORCYCLE_IGNITION_SWITCHES   \n",
       "6623530               NETWORK_SWITCHES              NETWORK_SWITCHES   \n",
       "8310326                     CELLPHONES                    CELLPHONES   \n",
       "14784082          AUTOMOTIVE_BATTERIES          AUTOMOTIVE_BATTERIES   \n",
       "\n",
       "                            prediction  \n",
       "19555084                  CLASSIC_CARS  \n",
       "831796    MOTORCYCLE_IGNITION_SWITCHES  \n",
       "6623530               NETWORK_SWITCHES  \n",
       "8310326                     CELLPHONES  \n",
       "14784082          AUTOMOTIVE_BATTERIES  "
      ]
     },
     "execution_count": 39,
     "metadata": {},
     "output_type": "execute_result"
    }
   ],
   "source": [
    "df_sample.head()"
   ]
  },
  {
   "cell_type": "code",
   "execution_count": null,
   "id": "fd28af03",
   "metadata": {},
   "outputs": [
    {
     "name": "stdout",
     "output_type": "stream",
     "text": [
      "Accuracy:  0.8663967611336032\n",
      "F1 Score:  0.8443247443247444\n"
     ]
    }
   ],
   "source": [
    "from sklearn.metrics import accuracy_score, f1_score\n",
    "\n",
    "print(\"Accuracy: \", accuracy_score(df_sample['category'], df_sample['prediction']))\n",
    "print(\"F1 Score: \", f1_score(df_sample['category'], df_sample['prediction'], average='macro')) #macro: (treat all classes equally)"
   ]
  },
  {
   "cell_type": "markdown",
   "id": "b62540d0",
   "metadata": {},
   "source": [
    "#### Check tokens to estimate costs"
   ]
  },
  {
   "cell_type": "markdown",
   "id": "6ac33012",
   "metadata": {},
   "source": [
    "247 records with 73 categories → 569 tokens per record\n",
    "\n",
    "569×247=140,543 tokens\n",
    "\n",
    "| Model       | Price per 1k tokens | Cost                                    |\n",
    "| ----------- | ------------------- | --------------------------------------- |\n",
    "| GPT-5-nano  | $0.0001             | 140,543 ÷ 1,000 × 0.0001 ≈ **$0.014**   |\n",
    "| GPT-4o-mini | $0.15 / 1M          | 140,543 ÷ 1,000,000 × 0.15 ≈ **$0.021** |\n",
    "| GPT-4o      | $2.50 / 1M          | 140,543 ÷ 1,000,000 × 2.50 ≈ **$0.35**  |\n",
    "| GPT-4-turbo | $10 / 1M            | 140,543 ÷ 1,000,000 × 10 ≈ **$1.41**    |\n",
    "\n",
    "\n",
    "The whole dataset:\n",
    "\n",
    "1588 categories: 1,588 × 6.22 ≈ 9,874 tokens for categories\n",
    "\n",
    "Text/instructions part: 9,874 + 115 ≈ 9,989 ≈10,000 tokens per record\n",
    "\n",
    "\n",
    "Total tokens for 20,000,000 records ≈ 10,000×20,000,000 = 200,000,000,000 tokens\n",
    "\n",
    "**Cost for 20M records** ≈ 200,000,000,000 ÷ 1,000 × 0.0001 = **$20,000** 😱 "
   ]
  },
  {
   "cell_type": "markdown",
   "id": "4eef3127",
   "metadata": {},
   "source": [
    "? Fine Tuning GPT: This process adapts a pre-trained GPT model to a specific task by training it on your labeled data."
   ]
  },
  {
   "cell_type": "code",
   "execution_count": 13,
   "id": "e9a3a438",
   "metadata": {},
   "outputs": [
    {
     "name": "stdout",
     "output_type": "stream",
     "text": [
      "Number of Categories: 73\n",
      "Tokens of Categories 454\n",
      "Tokens of Full Text (instructions + examples + categories + product title): 569\n"
     ]
    }
   ],
   "source": [
    "import tiktoken\n",
    "\n",
    "encoding = tiktoken.encoding_for_model(\"gpt-4o-mini\")\n",
    "\n",
    "text = user_inputs[1]\n",
    "categories_str = \", \".join(valid_categories)\n",
    "tokens_text = encoding.encode(text)\n",
    "tokens_categories = encoding.encode(categories_str)\n",
    "\n",
    "print(\"Number of Categories:\", len(valid_categories))\n",
    "print(\"Tokens of Categories\", len(tokens_categories))\n",
    "print(\"Tokens of Full Text (instructions + examples + categories + product title):\", len(tokens_text))"
   ]
  }
 ],
 "metadata": {
  "kernelspec": {
   "display_name": "base",
   "language": "python",
   "name": "python3"
  },
  "language_info": {
   "codemirror_mode": {
    "name": "ipython",
    "version": 3
   },
   "file_extension": ".py",
   "mimetype": "text/x-python",
   "name": "python",
   "nbconvert_exporter": "python",
   "pygments_lexer": "ipython3",
   "version": "3.10.10"
  }
 },
 "nbformat": 4,
 "nbformat_minor": 5
}
