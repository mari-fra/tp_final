{
 "cells": [
  {
   "cell_type": "markdown",
   "id": "fab40b8a",
   "metadata": {},
   "source": [
    "# Product Text Classification with OpenAI Embeddings\n",
    "\n",
    "Steps:\n",
    "\n",
    "- Load and filter dataset\n",
    "\n",
    "- Create embeddings with text-embedding-3-small.\n",
    "\n",
    "- Split train/test (stratify by category).\n",
    "\n",
    "- Train Random Forest classifier.\n",
    "\n",
    "- Evaluate with accuracy & classification report."
   ]
  },
  {
   "cell_type": "code",
   "execution_count": 36,
   "id": "5d67d7e8",
   "metadata": {},
   "outputs": [],
   "source": [
    "import pandas as pd\n",
    "import numpy as np\n",
    "from sklearn.model_selection import train_test_split"
   ]
  },
  {
   "cell_type": "code",
   "execution_count": null,
   "id": "df2b1583",
   "metadata": {},
   "outputs": [],
   "source": [
    "from openai import OpenAI\n",
    "client = OpenAI(api_key=\"OPENAI_API_KEY\")"
   ]
  },
  {
   "cell_type": "markdown",
   "id": "4cda958d",
   "metadata": {},
   "source": [
    "### Import and filter dataset based on a minimum number of samples per class"
   ]
  },
  {
   "cell_type": "code",
   "execution_count": 3,
   "id": "30a55a78",
   "metadata": {},
   "outputs": [],
   "source": [
    "df_input = pd.read_csv('train.csv')"
   ]
  },
  {
   "cell_type": "code",
   "execution_count": 12,
   "id": "f651662b",
   "metadata": {},
   "outputs": [],
   "source": [
    "n_sample = 1000\n",
    "min_samples = 3\n",
    "random_state = 42\n",
    "\n",
    "# Sample reproducibly\n",
    "df_sample = df_input.sample(n=n_sample, random_state=random_state)\n",
    "\n",
    "# Drop columns\n",
    "df_sample = df_sample.drop([\"language\", \"label_quality\"], axis=1)\n",
    "\n",
    "# Keep only categories with at least `min_samples`\n",
    "valid_categories = df_sample['category'].value_counts()\n",
    "valid_categories = valid_categories[valid_categories >= min_samples].index\n",
    "df_sample = df_sample[df_sample['category'].isin(valid_categories)]\n",
    "\n",
    "# Renamdf_input_samplee column\n",
    "df_sample = df_sample.rename(columns={'title': 'text'})"
   ]
  },
  {
   "cell_type": "code",
   "execution_count": 13,
   "id": "19930902",
   "metadata": {},
   "outputs": [
    {
     "data": {
      "text/html": [
       "<div>\n",
       "<style scoped>\n",
       "    .dataframe tbody tr th:only-of-type {\n",
       "        vertical-align: middle;\n",
       "    }\n",
       "\n",
       "    .dataframe tbody tr th {\n",
       "        vertical-align: top;\n",
       "    }\n",
       "\n",
       "    .dataframe thead th {\n",
       "        text-align: right;\n",
       "    }\n",
       "</style>\n",
       "<table border=\"1\" class=\"dataframe\">\n",
       "  <thead>\n",
       "    <tr style=\"text-align: right;\">\n",
       "      <th></th>\n",
       "      <th>text</th>\n",
       "      <th>category</th>\n",
       "    </tr>\n",
       "  </thead>\n",
       "  <tbody>\n",
       "    <tr>\n",
       "      <th>19555084</th>\n",
       "      <td>Nissan Versa</td>\n",
       "      <td>CLASSIC_CARS</td>\n",
       "    </tr>\n",
       "    <tr>\n",
       "      <th>831796</th>\n",
       "      <td>Llave Contacto Yamaha Fz 16 + Tapa Tanque Mpr</td>\n",
       "      <td>MOTORCYCLE_IGNITION_SWITCHES</td>\n",
       "    </tr>\n",
       "    <tr>\n",
       "      <th>6623530</th>\n",
       "      <td>Switch Ubiquiti Unifi 8 -  Puertos Giga Admini...</td>\n",
       "      <td>NETWORK_SWITCHES</td>\n",
       "    </tr>\n",
       "    <tr>\n",
       "      <th>8310326</th>\n",
       "      <td>Moto G5 Libre Huella Zona Oeste</td>\n",
       "      <td>CELLPHONES</td>\n",
       "    </tr>\n",
       "    <tr>\n",
       "      <th>14784082</th>\n",
       "      <td>Bateria Heliar 50 Jd *** New Civic- Crv***bate...</td>\n",
       "      <td>AUTOMOTIVE_BATTERIES</td>\n",
       "    </tr>\n",
       "    <tr>\n",
       "      <th>...</th>\n",
       "      <td>...</td>\n",
       "      <td>...</td>\n",
       "    </tr>\n",
       "    <tr>\n",
       "      <th>11931008</th>\n",
       "      <td>Cable Tipo Taller Tpr 5x6 Normalizado - X 800 ...</td>\n",
       "      <td>ELECTRICAL_CABLES</td>\n",
       "    </tr>\n",
       "    <tr>\n",
       "      <th>6453562</th>\n",
       "      <td>Somente Rede Creme (1,20 X 1,25)</td>\n",
       "      <td>PROTECTION_NETS</td>\n",
       "    </tr>\n",
       "    <tr>\n",
       "      <th>10253712</th>\n",
       "      <td>Funda 70-50</td>\n",
       "      <td>CLEANING_CLOTHS</td>\n",
       "    </tr>\n",
       "    <tr>\n",
       "      <th>18456754</th>\n",
       "      <td>4 Planchas De Pelo  Babyliss</td>\n",
       "      <td>HAIR_STRAIGHTENERS</td>\n",
       "    </tr>\n",
       "    <tr>\n",
       "      <th>5555162</th>\n",
       "      <td>Teclado Para Computer Resistente A Agua Macio ...</td>\n",
       "      <td>PC_KEYBOARDS</td>\n",
       "    </tr>\n",
       "  </tbody>\n",
       "</table>\n",
       "<p>247 rows × 2 columns</p>\n",
       "</div>"
      ],
      "text/plain": [
       "                                                       text  \\\n",
       "19555084                                      Nissan Versa    \n",
       "831796        Llave Contacto Yamaha Fz 16 + Tapa Tanque Mpr   \n",
       "6623530   Switch Ubiquiti Unifi 8 -  Puertos Giga Admini...   \n",
       "8310326                    Moto G5 Libre Huella Zona Oeste    \n",
       "14784082  Bateria Heliar 50 Jd *** New Civic- Crv***bate...   \n",
       "...                                                     ...   \n",
       "11931008  Cable Tipo Taller Tpr 5x6 Normalizado - X 800 ...   \n",
       "6453562                    Somente Rede Creme (1,20 X 1,25)   \n",
       "10253712                                        Funda 70-50   \n",
       "18456754                       4 Planchas De Pelo  Babyliss   \n",
       "5555162   Teclado Para Computer Resistente A Agua Macio ...   \n",
       "\n",
       "                              category  \n",
       "19555084                  CLASSIC_CARS  \n",
       "831796    MOTORCYCLE_IGNITION_SWITCHES  \n",
       "6623530               NETWORK_SWITCHES  \n",
       "8310326                     CELLPHONES  \n",
       "14784082          AUTOMOTIVE_BATTERIES  \n",
       "...                                ...  \n",
       "11931008             ELECTRICAL_CABLES  \n",
       "6453562                PROTECTION_NETS  \n",
       "10253712               CLEANING_CLOTHS  \n",
       "18456754            HAIR_STRAIGHTENERS  \n",
       "5555162                   PC_KEYBOARDS  \n",
       "\n",
       "[247 rows x 2 columns]"
      ]
     },
     "execution_count": 13,
     "metadata": {},
     "output_type": "execute_result"
    }
   ],
   "source": [
    "df_sample"
   ]
  },
  {
   "cell_type": "markdown",
   "id": "8e582bfa",
   "metadata": {},
   "source": [
    "### Create embeddings"
   ]
  },
  {
   "cell_type": "markdown",
   "id": "025043fa",
   "metadata": {},
   "source": [
    "What to use: text or [text]? Both actually work\n",
    "\n",
    "- input=text → returns 1 embedding.\n",
    "- input=[text] → also returns 1 embedding (inside a list)."
   ]
  },
  {
   "cell_type": "markdown",
   "id": "cfa4e3ec",
   "metadata": {},
   "source": [
    "##### TODO: clean up raw data"
   ]
  },
  {
   "cell_type": "code",
   "execution_count": 8,
   "id": "b128c4e8",
   "metadata": {},
   "outputs": [],
   "source": [
    "def get_embedding(text, model=\"text-embedding-3-small\"):\n",
    "    # TODO: pre-processing text text = text.replace(\"\\n\", \" \")\n",
    "    return client.embeddings.create(input = [text], model=model).data[0].embedding"
   ]
  },
  {
   "cell_type": "code",
   "execution_count": 14,
   "id": "251a295b",
   "metadata": {},
   "outputs": [],
   "source": [
    "df_sample['embedding_small'] = df_sample['text'].apply(lambda x: get_embedding(x, model='text-embedding-3-small'))"
   ]
  },
  {
   "cell_type": "code",
   "execution_count": 16,
   "id": "147e8fba",
   "metadata": {},
   "outputs": [],
   "source": [
    "df_sample = df_sample.reset_index(drop=True)\n",
    "df_sample = df_sample.drop('text', axis = 1)"
   ]
  },
  {
   "cell_type": "code",
   "execution_count": 17,
   "id": "f54a1753",
   "metadata": {},
   "outputs": [
    {
     "data": {
      "text/plain": [
       "1536"
      ]
     },
     "execution_count": 17,
     "metadata": {},
     "output_type": "execute_result"
    }
   ],
   "source": [
    "len(df_sample['embedding_small'][0])"
   ]
  },
  {
   "cell_type": "code",
   "execution_count": 21,
   "id": "f8fcbbf8",
   "metadata": {},
   "outputs": [
    {
     "data": {
      "text/html": [
       "<div>\n",
       "<style scoped>\n",
       "    .dataframe tbody tr th:only-of-type {\n",
       "        vertical-align: middle;\n",
       "    }\n",
       "\n",
       "    .dataframe tbody tr th {\n",
       "        vertical-align: top;\n",
       "    }\n",
       "\n",
       "    .dataframe thead th {\n",
       "        text-align: right;\n",
       "    }\n",
       "</style>\n",
       "<table border=\"1\" class=\"dataframe\">\n",
       "  <thead>\n",
       "    <tr style=\"text-align: right;\">\n",
       "      <th></th>\n",
       "      <th>category</th>\n",
       "      <th>embedding_small</th>\n",
       "    </tr>\n",
       "  </thead>\n",
       "  <tbody>\n",
       "    <tr>\n",
       "      <th>0</th>\n",
       "      <td>CLASSIC_CARS</td>\n",
       "      <td>[-0.013427658006548882, -0.01984761655330658, -0.0205822940915823, 0.010505898855626583, -0.014139731414616108, -0.02068401873111725, -0.011833971366286278, 0.038836222141981125, 0.017654884606599808, -0.0209891926497221, -0.011370559222996235, 0.03198676183819771, -0.010794118978083134, 0.015823839232325554, 0.04295042157173157, -0.0027183096390217543, -0.007748030126094818, -0.003913574852049351, -0.021373486146330833, -0.009189129807054996, 0.06460648030042648, 0.04656729847192764, 0.06510379910469055, -0.034835051745176315, 0.018988607451319695, -0.014456207863986492, -0.031466834247112274, 0.03038177266716957, -0.02495645545423031, -0.03983086347579956, 0.02250375971198082, -0.029658395797014236, 0.04873742535710335, -0.021927321329712868, -0.00959037709981203, 0.01792614907026291, 0.056604135781526566, -0.042385283857584, -0.009935110807418823, -0.027126582339406013, -0.001426971284672618, 0.06817814707756042, 0.046476878225803375, -0.01251213625073433, 0.0567849799990654, 0.013970189727842808, -0.006838159170001745, 0.01291903480887413, 0.008742671459913254, 0.015462151728570461, -0.058683838695287704, -0.034563787281513214, 0.017214076593518257, 0.03885883092880249, -0.04973206669092178, 0.005589206237345934, 0.01867213100194931, -0.0002647314395289868, 0.046205613762140274, -0.01654721610248089, -0.01326941978186369, -0.06334056705236435, -0.02590588666498661, 0.11501670628786087, 0.024481739848852158, -0.009420836344361305, 0.04432935640215874, 0.0427921824157238, -0.013178997673094273, -0.02445913478732109, -0.018581708893179893, 0.01271558552980423, 0.004413721151649952, -0.0006926461937837303, 0.015066555701196194, 0.010155513882637024, -0.006318232975900173, -0.03962741419672966, 0.01618552766740322, 0.00549313286319375, -0.05018417909741402, 0.00658384757116437, -0.028505517169833183, 0.0031788963824510574, -0.06727392226457596, -0.04161669686436653, -0.019870221614837646, -0.014456207863986492, -0.004408069420605898, 0.008234048262238503, -0.029681002721190453, -0.017270591109991074, -0.06062791123986244, -0.004758454859256744, 0.02032233215868473, 0.04084811359643936, 0.0012941639870405197, -0.05497654154896736, 0.017417525872588158, -0.003582969307899475, ...]</td>\n",
       "    </tr>\n",
       "  </tbody>\n",
       "</table>\n",
       "</div>"
      ],
      "text/plain": [
       "       category  \\\n",
       "0  CLASSIC_CARS   \n",
       "\n",
       "                                                                                                                                                                                                                                                                                                                                                                                                                                                                                                                                                                                                                                                                                                                                                                                                                                                                                                                                                                                                                                                                                                                                                                                                                                                                                                                                                                                                                                                                                                                                                                                                                                                                                                                                                                                                                                                                                                                                                                                                                                                                                                                                                                                                                                                                                            embedding_small  \n",
       "0  [-0.013427658006548882, -0.01984761655330658, -0.0205822940915823, 0.010505898855626583, -0.014139731414616108, -0.02068401873111725, -0.011833971366286278, 0.038836222141981125, 0.017654884606599808, -0.0209891926497221, -0.011370559222996235, 0.03198676183819771, -0.010794118978083134, 0.015823839232325554, 0.04295042157173157, -0.0027183096390217543, -0.007748030126094818, -0.003913574852049351, -0.021373486146330833, -0.009189129807054996, 0.06460648030042648, 0.04656729847192764, 0.06510379910469055, -0.034835051745176315, 0.018988607451319695, -0.014456207863986492, -0.031466834247112274, 0.03038177266716957, -0.02495645545423031, -0.03983086347579956, 0.02250375971198082, -0.029658395797014236, 0.04873742535710335, -0.021927321329712868, -0.00959037709981203, 0.01792614907026291, 0.056604135781526566, -0.042385283857584, -0.009935110807418823, -0.027126582339406013, -0.001426971284672618, 0.06817814707756042, 0.046476878225803375, -0.01251213625073433, 0.0567849799990654, 0.013970189727842808, -0.006838159170001745, 0.01291903480887413, 0.008742671459913254, 0.015462151728570461, -0.058683838695287704, -0.034563787281513214, 0.017214076593518257, 0.03885883092880249, -0.04973206669092178, 0.005589206237345934, 0.01867213100194931, -0.0002647314395289868, 0.046205613762140274, -0.01654721610248089, -0.01326941978186369, -0.06334056705236435, -0.02590588666498661, 0.11501670628786087, 0.024481739848852158, -0.009420836344361305, 0.04432935640215874, 0.0427921824157238, -0.013178997673094273, -0.02445913478732109, -0.018581708893179893, 0.01271558552980423, 0.004413721151649952, -0.0006926461937837303, 0.015066555701196194, 0.010155513882637024, -0.006318232975900173, -0.03962741419672966, 0.01618552766740322, 0.00549313286319375, -0.05018417909741402, 0.00658384757116437, -0.028505517169833183, 0.0031788963824510574, -0.06727392226457596, -0.04161669686436653, -0.019870221614837646, -0.014456207863986492, -0.004408069420605898, 0.008234048262238503, -0.029681002721190453, -0.017270591109991074, -0.06062791123986244, -0.004758454859256744, 0.02032233215868473, 0.04084811359643936, 0.0012941639870405197, -0.05497654154896736, 0.017417525872588158, -0.003582969307899475, ...]  "
      ]
     },
     "execution_count": 21,
     "metadata": {},
     "output_type": "execute_result"
    }
   ],
   "source": [
    "pd.set_option('display.max_colwidth', None)\n",
    "df_sample.head(1)"
   ]
  },
  {
   "cell_type": "code",
   "execution_count": 22,
   "id": "ebf694a1",
   "metadata": {},
   "outputs": [],
   "source": [
    "pd.reset_option('display.max_colwidth', None)"
   ]
  },
  {
   "cell_type": "markdown",
   "id": "5ecdfccb",
   "metadata": {},
   "source": [
    "##### TODO: check embeddings len when saving file"
   ]
  },
  {
   "cell_type": "code",
   "execution_count": 25,
   "id": "45a7ec1d",
   "metadata": {},
   "outputs": [],
   "source": [
    "# Save\n",
    "df_sample.to_parquet(\"embeddings/df_sample_with_embeddings.parquet\", index=False)"
   ]
  },
  {
   "cell_type": "code",
   "execution_count": null,
   "id": "15df03cd",
   "metadata": {},
   "outputs": [],
   "source": [
    "# Load\n",
    "df_embeddings = pd.read_parquet(\"embeddings/df_sample_with_embeddings.parquet\")"
   ]
  },
  {
   "cell_type": "code",
   "execution_count": null,
   "id": "22ba5505",
   "metadata": {},
   "outputs": [
    {
     "name": "stdout",
     "output_type": "stream",
     "text": [
      "Embeddings match: True\n"
     ]
    }
   ],
   "source": [
    "# Check if embeddings are equal\n",
    "all_close = np.allclose(\n",
    "    # vstack: takes a list (or iterable) of arrays/vectors and stacks them row by row into a 2D array.\n",
    "    np.vstack(df_sample[\"embedding_small\"]),\n",
    "    np.vstack(df_embeddings[\"embedding_small\"]),\n",
    "    rtol=1e-6\n",
    ")\n",
    "\n",
    "print(\"Embeddings match:\", all_close)"
   ]
  },
  {
   "cell_type": "markdown",
   "id": "6665b7db",
   "metadata": {},
   "source": [
    "### Split with stratification"
   ]
  },
  {
   "cell_type": "code",
   "execution_count": 39,
   "id": "9a2c58c7",
   "metadata": {},
   "outputs": [],
   "source": [
    "X_train, X_valid, y_train, y_valid = train_test_split(df_sample['embedding_small'], df_sample['category'], \n",
    "                                                      test_size=0.3, random_state=42, stratify=df_sample['category'])"
   ]
  },
  {
   "cell_type": "code",
   "execution_count": 40,
   "id": "2862f8f7",
   "metadata": {},
   "outputs": [
    {
     "data": {
      "text/plain": [
       "(172, 75, 172, 75)"
      ]
     },
     "execution_count": 40,
     "metadata": {},
     "output_type": "execute_result"
    }
   ],
   "source": [
    "len(X_train), len(X_valid), len(y_train), len(y_valid)"
   ]
  },
  {
   "cell_type": "code",
   "execution_count": 41,
   "id": "e6a46d3d",
   "metadata": {},
   "outputs": [
    {
     "data": {
      "text/plain": [
       "((172,), (172,), (75,), (75,))"
      ]
     },
     "execution_count": 41,
     "metadata": {},
     "output_type": "execute_result"
    }
   ],
   "source": [
    "X_train.shape, y_train.shape, X_valid.shape, y_valid.shape"
   ]
  },
  {
   "cell_type": "code",
   "execution_count": 42,
   "id": "a1c15818",
   "metadata": {},
   "outputs": [
    {
     "data": {
      "text/plain": [
       "217    [0.03802502155303955, 0.05629558116197586, -0....\n",
       "127    [0.013571598567068577, -0.009913485497236252, ...\n",
       "197    [0.04497840255498886, -0.006360092666000128, 0...\n",
       "139    [0.04696916788816452, 0.024686014279723167, -0...\n",
       "211    [0.03358994051814079, 0.011265762150287628, -0...\n",
       "Name: embedding_small, dtype: object"
      ]
     },
     "execution_count": 42,
     "metadata": {},
     "output_type": "execute_result"
    }
   ],
   "source": [
    "X_train.head()"
   ]
  },
  {
   "cell_type": "markdown",
   "id": "367a17ee",
   "metadata": {},
   "source": [
    "scikit-learn\n",
    "fit(X, y, sample_weight=None)\n",
    "\n",
    "X_train is a serie of list, but RandomForestClassifier needs 2D array\n",
    "X: {array-like, sparse matrix} of shape (`n_samples`, `n_features`)"
   ]
  },
  {
   "cell_type": "code",
   "execution_count": 45,
   "id": "7311dd4f",
   "metadata": {},
   "outputs": [
    {
     "data": {
      "text/plain": [
       "((172, 1536), (75, 1536))"
      ]
     },
     "execution_count": 45,
     "metadata": {},
     "output_type": "execute_result"
    }
   ],
   "source": [
    "# convert serie to list\n",
    "import numpy as np\n",
    "X_train = np.array(X_train.tolist())\n",
    "X_valid  = np.array(X_valid.tolist())\n",
    "\n",
    "X_train.shape, X_valid.shape"
   ]
  },
  {
   "cell_type": "markdown",
   "id": "6f2402da",
   "metadata": {},
   "source": [
    "### Model and Train: RandomForestClassifier"
   ]
  },
  {
   "cell_type": "code",
   "execution_count": 64,
   "id": "cb26a3fe",
   "metadata": {},
   "outputs": [],
   "source": [
    "from sklearn.ensemble import RandomForestClassifier\n",
    "from sklearn.metrics import classification_report, accuracy_score\n",
    "\n",
    "clf = RandomForestClassifier(n_estimators=200)\n",
    "clf.fit(X_train, y_train)\n",
    "pred_rfc = clf.predict(X_valid)"
   ]
  },
  {
   "cell_type": "markdown",
   "id": "8eea629e",
   "metadata": {},
   "source": [
    "#### KNeighborsClassifier"
   ]
  },
  {
   "cell_type": "markdown",
   "id": "697bcbc8",
   "metadata": {},
   "source": [
    "Data preparation for Knn:\n",
    "\n",
    "- Rescale Data : KNN performs better when data is on the same scale. Normalizing to [0, 1] or standardizing (for Gaussian distributions) improves accuracy.\n",
    "\n",
    "- Reduce Dimensionality : KNN works best with fewer features. In high-dimensional data, feature selection can improve performance by reducing irrelevant variables. [link](https://medium.com/@RobuRishabh/knn-k-nearest-neighbour-5ae18ae8e274)"
   ]
  },
  {
   "cell_type": "code",
   "execution_count": 74,
   "id": "5a6626e9",
   "metadata": {},
   "outputs": [],
   "source": [
    "from sklearn.preprocessing import StandardScaler\n",
    "\n",
    "scaler = StandardScaler()\n",
    "X_train_scaled = scaler.fit_transform(X_train)\n",
    "X_valid_scaled = scaler.fit_transform(X_valid)"
   ]
  },
  {
   "cell_type": "code",
   "execution_count": 114,
   "id": "54e9dc0f",
   "metadata": {},
   "outputs": [],
   "source": [
    "from sklearn.decomposition import PCA\n",
    "\n",
    "pca = PCA(n_components=50)\n",
    "X_train_reduced = pca.fit_transform(X_train)\n",
    "X_valid_reduced = pca.transform(X_valid)"
   ]
  },
  {
   "cell_type": "code",
   "execution_count": 115,
   "id": "e123293a",
   "metadata": {},
   "outputs": [
    {
     "data": {
      "text/plain": [
       "((172, 1536), (75, 1536))"
      ]
     },
     "execution_count": 115,
     "metadata": {},
     "output_type": "execute_result"
    }
   ],
   "source": [
    "X_train.shape, X_valid.shape"
   ]
  },
  {
   "cell_type": "code",
   "execution_count": 92,
   "id": "e64d7120",
   "metadata": {},
   "outputs": [
    {
     "data": {
      "text/plain": [
       "((172, 70), (75, 70))"
      ]
     },
     "execution_count": 92,
     "metadata": {},
     "output_type": "execute_result"
    }
   ],
   "source": [
    "X_train_reduced.shape, X_valid_reduced.shape"
   ]
  },
  {
   "cell_type": "code",
   "execution_count": 77,
   "id": "19e34dd6",
   "metadata": {},
   "outputs": [],
   "source": [
    "from sklearn.neighbors import KNeighborsClassifier\n",
    "\n",
    "knn_clf = KNeighborsClassifier(n_neighbors=5)\n",
    "knn_clf.fit(X_train, y_train)\n",
    "pred_knn = knn_clf.predict(X_valid)"
   ]
  },
  {
   "cell_type": "code",
   "execution_count": 80,
   "id": "6a8abb8e",
   "metadata": {},
   "outputs": [],
   "source": [
    "from sklearn.neighbors import KNeighborsClassifier\n",
    "\n",
    "knn_clf_scaled = KNeighborsClassifier(n_neighbors=5)\n",
    "knn_clf_scaled.fit(X_train_scaled, y_train)\n",
    "pred_knn_scaled = knn_clf_scaled.predict(X_valid_scaled)"
   ]
  },
  {
   "cell_type": "code",
   "execution_count": 116,
   "id": "ef5e0db5",
   "metadata": {},
   "outputs": [],
   "source": [
    "knn_clf_reduced = KNeighborsClassifier(n_neighbors=5)\n",
    "knn_clf_reduced.fit(X_train_reduced,y_train)\n",
    "pred_knn_reduced = knn_clf_reduced.predict(X_valid_reduced)"
   ]
  },
  {
   "cell_type": "code",
   "execution_count": 117,
   "id": "d237a6b6",
   "metadata": {},
   "outputs": [
    {
     "name": "stdout",
     "output_type": "stream",
     "text": [
      "Random Forest acc: 0.41333333333333333\n",
      "KNN acc: 0.5066666666666667\n",
      "KNNScaled acc: 0.5333333333333333\n",
      "KNNReduced acc 0.5066666666666667\n"
     ]
    }
   ],
   "source": [
    "print(f'Random Forest acc: {accuracy_score(y_valid, pred_rfc)}')\n",
    "print(f'KNN acc: {accuracy_score(y_valid,pred_knn)}')\n",
    "print(f'KNNScaled acc: {accuracy_score(y_valid,pred_knn_scaled)}')\n",
    "print(f'KNNReduced acc {accuracy_score(y_valid, pred_knn_reduced)}')\n",
    "# print(f'Ensamble acc: {accuracy_score(y_test,ensamble_pred_2)}')"
   ]
  }
 ],
 "metadata": {
  "kernelspec": {
   "display_name": "base",
   "language": "python",
   "name": "python3"
  },
  "language_info": {
   "codemirror_mode": {
    "name": "ipython",
    "version": 3
   },
   "file_extension": ".py",
   "mimetype": "text/x-python",
   "name": "python",
   "nbconvert_exporter": "python",
   "pygments_lexer": "ipython3",
   "version": "3.10.10"
  }
 },
 "nbformat": 4,
 "nbformat_minor": 5
}
