{
 "cells": [
  {
   "cell_type": "markdown",
   "id": "fab40b8a",
   "metadata": {},
   "source": [
    "# Product Text Classification with OpenAI Embeddings\n",
    "\n",
    "Steps:\n",
    "\n",
    "- Load and filter dataset\n",
    "\n",
    "- Create embeddings with text-embedding-3-small.\n",
    "\n",
    "- Split train/test (stratify by category).\n",
    "\n",
    "- Train Random Forest classifier.\n",
    "\n",
    "- Evaluate with accuracy & classification report."
   ]
  },
  {
   "cell_type": "code",
   "execution_count": null,
   "id": "5d67d7e8",
   "metadata": {},
   "outputs": [],
   "source": [
    "import pandas as pd\n",
    "from sklearn.model_selection import train_test_split"
   ]
  },
  {
   "cell_type": "code",
   "execution_count": null,
   "id": "df2b1583",
   "metadata": {},
   "outputs": [],
   "source": [
    "from openai import OpenAI\n",
    "client = OpenAI(api_key=\"OPENAI_API_KEY\")"
   ]
  },
  {
   "cell_type": "markdown",
   "id": "4cda958d",
   "metadata": {},
   "source": [
    "### Import and filter dataset based on a minimum number of samples per class"
   ]
  },
  {
   "cell_type": "code",
   "execution_count": null,
   "id": "30a55a78",
   "metadata": {},
   "outputs": [],
   "source": [
    "df_input = pd.read_csv('train.csv')"
   ]
  },
  {
   "cell_type": "code",
   "execution_count": null,
   "id": "f651662b",
   "metadata": {},
   "outputs": [],
   "source": [
    "# df_input = df_input[df_input['language'] == 'spanish']\n",
    "n_sample = 1000\n",
    "min_samples = 3\n",
    "\n",
    "df_input_sample = df_input.sample(n = n_sample).drop([\"language\", \"label_quality\"], axis = 1)\n",
    "\n",
    "unique_categories = df_input_sample['category'].value_counts()\n",
    "list_filtered_categories = unique_categories[unique_categories > min_samples].index.to_list()\n",
    "df_input_filtered = df_input_sample[df_input_sample[\"category\"].isin(list_filtered_categories)]\n",
    "df_input_filtered = df_input_filtered.rename(columns={'title': 'text'})"
   ]
  },
  {
   "cell_type": "code",
   "execution_count": null,
   "id": "19930902",
   "metadata": {},
   "outputs": [],
   "source": [
    "df_input_filtered"
   ]
  },
  {
   "cell_type": "markdown",
   "id": "8e582bfa",
   "metadata": {},
   "source": [
    "### Create embeddings"
   ]
  },
  {
   "cell_type": "markdown",
   "id": "025043fa",
   "metadata": {},
   "source": [
    "What to use: text or [text]? Both actually work\n",
    "\n",
    "- input=text → returns 1 embedding.\n",
    "- input=[text] → also returns 1 embedding (inside a list)."
   ]
  },
  {
   "cell_type": "markdown",
   "id": "cfa4e3ec",
   "metadata": {},
   "source": [
    "##### TODO: clean up raw data"
   ]
  },
  {
   "cell_type": "code",
   "execution_count": null,
   "id": "b128c4e8",
   "metadata": {},
   "outputs": [],
   "source": [
    "def get_embedding(text, model=\"text-embedding-3-small\"):\n",
    "    # TODO: pre-processing text text = text.replace(\"\\n\", \" \")\n",
    "    return client.embeddings.create(input = [text], model=model).data[0].embedding"
   ]
  },
  {
   "cell_type": "code",
   "execution_count": null,
   "id": "251a295b",
   "metadata": {},
   "outputs": [],
   "source": [
    "df_input_filtered['embedding_small'] = df_input_filtered['text'].apply(lambda x: get_embedding(x, model='text-embedding-3-small'))"
   ]
  },
  {
   "cell_type": "code",
   "execution_count": null,
   "id": "147e8fba",
   "metadata": {},
   "outputs": [],
   "source": [
    "df_input_filtered = df_input_filtered.reset_index(drop=True)\n",
    "df_input_filtered = df_input_filtered.drop('text', axis = 1)"
   ]
  },
  {
   "cell_type": "code",
   "execution_count": null,
   "id": "f54a1753",
   "metadata": {},
   "outputs": [],
   "source": [
    "len(df_input_filtered['embedding_small'][0])"
   ]
  },
  {
   "cell_type": "code",
   "execution_count": null,
   "id": "f8fcbbf8",
   "metadata": {},
   "outputs": [],
   "source": [
    "pd.set_option('display.max_colwidth', None)\n",
    "df_input_filtered.iloc[0]"
   ]
  },
  {
   "cell_type": "markdown",
   "id": "5ecdfccb",
   "metadata": {},
   "source": [
    "##### TODO: check embeddings len when saving file"
   ]
  },
  {
   "cell_type": "code",
   "execution_count": null,
   "id": "45a7ec1d",
   "metadata": {},
   "outputs": [],
   "source": [
    "#TODO check, the len of embeddings increases\n",
    "df_input_filtered.to_csv(f'embeddings/embedded_{n_sample}_products.csv', index=False)"
   ]
  },
  {
   "cell_type": "code",
   "execution_count": null,
   "id": "d72c38e7",
   "metadata": {},
   "outputs": [],
   "source": [
    "df_embeddings = pd.read_csv('embeddings/embedded_10_products.csv')"
   ]
  },
  {
   "cell_type": "code",
   "execution_count": null,
   "id": "3f4915b2",
   "metadata": {},
   "outputs": [],
   "source": [
    "df_input_filtered['embedding_small'].map(len), df_embeddings['embedding_small'].map(len)"
   ]
  },
  {
   "cell_type": "markdown",
   "id": "6665b7db",
   "metadata": {},
   "source": [
    "### Split with stratification"
   ]
  },
  {
   "cell_type": "code",
   "execution_count": null,
   "id": "9a2c58c7",
   "metadata": {},
   "outputs": [],
   "source": [
    "X_train, X_test, y_train, y_test = train_test_split(df_input_filtered['embedding_small'], df_input_filtered['category'], \n",
    "                                                      test_size=0.3, random_state=42, stratify=df_input_filtered['category'])"
   ]
  },
  {
   "cell_type": "code",
   "execution_count": null,
   "id": "2862f8f7",
   "metadata": {},
   "outputs": [],
   "source": [
    "len(X_train) , len(X_test), X_train.shape, y_train.shape"
   ]
  },
  {
   "cell_type": "code",
   "execution_count": null,
   "id": "a1c15818",
   "metadata": {},
   "outputs": [],
   "source": [
    "X_train.head()"
   ]
  },
  {
   "cell_type": "markdown",
   "id": "367a17ee",
   "metadata": {},
   "source": [
    "scikit-learn\n",
    "fit(X, y, sample_weight=None)\n",
    "\n",
    "X_train is a serie of list, but RandomForestClassifier needs 2D array\n",
    "X: {array-like, sparse matrix} of shape (`n_samples`, `n_features`)"
   ]
  },
  {
   "cell_type": "code",
   "execution_count": null,
   "id": "7311dd4f",
   "metadata": {},
   "outputs": [],
   "source": [
    "# convert serie to list\n",
    "import numpy as np\n",
    "X_train = np.array(X_train.tolist())\n",
    "X_test  = np.array(X_test.tolist())\n",
    "\n",
    "X_train.shape, X_test.shape"
   ]
  },
  {
   "cell_type": "markdown",
   "id": "6f2402da",
   "metadata": {},
   "source": [
    "### Model and Train: RandomForestClassifier"
   ]
  },
  {
   "cell_type": "code",
   "execution_count": null,
   "id": "cb26a3fe",
   "metadata": {},
   "outputs": [],
   "source": [
    "from sklearn.ensemble import RandomForestClassifier\n",
    "from sklearn.metrics import classification_report, accuracy_score\n",
    "\n",
    "clf = RandomForestClassifier(n_estimators=200)\n",
    "clf.fit(X_train, y_train)\n",
    "preds = clf.predict(X_test)"
   ]
  },
  {
   "cell_type": "code",
   "execution_count": null,
   "id": "ac2a0d9d",
   "metadata": {},
   "outputs": [],
   "source": [
    "from sklearn.metrics import classification_report\n",
    "\n",
    "report = classification_report(y_test,preds)\n",
    "print(report)"
   ]
  }
 ],
 "metadata": {
  "kernelspec": {
   "display_name": "base",
   "language": "python",
   "name": "python3"
  },
  "language_info": {
   "codemirror_mode": {
    "name": "ipython",
    "version": 3
   },
   "file_extension": ".py",
   "mimetype": "text/x-python",
   "name": "python",
   "nbconvert_exporter": "python",
   "pygments_lexer": "ipython3",
   "version": "3.10.10"
  }
 },
 "nbformat": 4,
 "nbformat_minor": 5
}
