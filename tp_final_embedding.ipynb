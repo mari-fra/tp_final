{
 "cells": [
  {
   "cell_type": "markdown",
   "id": "fab40b8a",
   "metadata": {},
   "source": [
    "# Product Text Classification with OpenAI Embeddings\n",
    "\n",
    "Steps:\n",
    "\n",
    "- Load and filter dataset\n",
    "\n",
    "- Create embeddings with text-embedding-3-small.\n",
    "\n",
    "- Split train/test (stratify by category).\n",
    "\n",
    "- Train Random Forest classifier.\n",
    "\n",
    "- Evaluate with accuracy & classification report."
   ]
  },
  {
   "cell_type": "code",
   "execution_count": 1,
   "id": "5d67d7e8",
   "metadata": {},
   "outputs": [
    {
     "name": "stderr",
     "output_type": "stream",
     "text": [
      "/home/marifra/miniconda3/lib/python3.10/site-packages/pandas/core/arrays/masked.py:60: UserWarning: Pandas requires version '1.3.6' or newer of 'bottleneck' (version '1.3.5' currently installed).\n",
      "  from pandas.core import (\n"
     ]
    }
   ],
   "source": [
    "import pandas as pd\n",
    "from sklearn.model_selection import train_test_split"
   ]
  },
  {
   "cell_type": "code",
   "execution_count": null,
   "id": "df2b1583",
   "metadata": {},
   "outputs": [],
   "source": [
    "from openai import OpenAI\n",
    "client = OpenAI(api_key=\"OPENAI_API_KEY\")"
   ]
  },
  {
   "cell_type": "markdown",
   "id": "4cda958d",
   "metadata": {},
   "source": [
    "### Import and filter dataset based on a minimum number of samples per class"
   ]
  },
  {
   "cell_type": "code",
   "execution_count": 3,
   "id": "30a55a78",
   "metadata": {},
   "outputs": [],
   "source": [
    "df_input = pd.read_csv('train.csv')"
   ]
  },
  {
   "cell_type": "code",
   "execution_count": null,
   "id": "f651662b",
   "metadata": {},
   "outputs": [],
   "source": [
    "# df_input = df_input[df_input['language'] == 'spanish']\n",
    "n_sample = 1000\n",
    "min_samples = 3\n",
    "\n",
    "df_input_sample = df_input.sample(n = n_sample).drop([\"language\", \"label_quality\"], axis = 1)\n",
    "\n",
    "unique_categories = df_input_sample['category'].value_counts()\n",
    "list_filtered_categories = unique_categories[unique_categories > min_samples].index.to_list()\n",
    "df_input_filtered = df_input_sample[df_input_sample[\"category\"].isin(list_filtered_categories)]\n",
    "df_input_filtered = df_input_filtered.rename(columns={'title': 'text'})"
   ]
  },
  {
   "cell_type": "code",
   "execution_count": 78,
   "id": "19930902",
   "metadata": {},
   "outputs": [
    {
     "data": {
      "text/html": [
       "<div>\n",
       "<style scoped>\n",
       "    .dataframe tbody tr th:only-of-type {\n",
       "        vertical-align: middle;\n",
       "    }\n",
       "\n",
       "    .dataframe tbody tr th {\n",
       "        vertical-align: top;\n",
       "    }\n",
       "\n",
       "    .dataframe thead th {\n",
       "        text-align: right;\n",
       "    }\n",
       "</style>\n",
       "<table border=\"1\" class=\"dataframe\">\n",
       "  <thead>\n",
       "    <tr style=\"text-align: right;\">\n",
       "      <th></th>\n",
       "      <th>text</th>\n",
       "      <th>category</th>\n",
       "    </tr>\n",
       "  </thead>\n",
       "  <tbody>\n",
       "    <tr>\n",
       "      <th>11642328</th>\n",
       "      <td>Leshp Hdmi 2.0 1x2 Splitter Apoyo Completo Hd ...</td>\n",
       "      <td>COMPUTER_MONITORS</td>\n",
       "    </tr>\n",
       "    <tr>\n",
       "      <th>11555541</th>\n",
       "      <td>Robofish Nemo Coleccion Buscando A Dory Reyna ...</td>\n",
       "      <td>TOY_ROBOTS</td>\n",
       "    </tr>\n",
       "    <tr>\n",
       "      <th>9204094</th>\n",
       "      <td>Kit Cables De Bujias Chevrolet Corsa Spin Coba...</td>\n",
       "      <td>SPARK_PLUG_WIRESETS</td>\n",
       "    </tr>\n",
       "    <tr>\n",
       "      <th>7544631</th>\n",
       "      <td>Loro Sentido De La Mano Rc Drone Led Luces De ...</td>\n",
       "      <td>TOY_ROBOTS</td>\n",
       "    </tr>\n",
       "    <tr>\n",
       "      <th>14598291</th>\n",
       "      <td>Sandalias Plataforma Con Tachas Livianas</td>\n",
       "      <td>SANDALS_AND_FLIP_FLOPS</td>\n",
       "    </tr>\n",
       "    <tr>\n",
       "      <th>...</th>\n",
       "      <td>...</td>\n",
       "      <td>...</td>\n",
       "    </tr>\n",
       "    <tr>\n",
       "      <th>2122960</th>\n",
       "      <td>Cable Bujía Ferrazzi Competicion Citroen Bx 1....</td>\n",
       "      <td>SPARK_PLUG_WIRESETS</td>\n",
       "    </tr>\n",
       "    <tr>\n",
       "      <th>11993176</th>\n",
       "      <td>Mesa Rectangular De Marmol Y Bronce Doble Con ...</td>\n",
       "      <td>COFFEE_TABLES</td>\n",
       "    </tr>\n",
       "    <tr>\n",
       "      <th>12978432</th>\n",
       "      <td>Bandeja Extersa 105 Rec</td>\n",
       "      <td>SERVING_AND_HOME_TRAYS</td>\n",
       "    </tr>\n",
       "    <tr>\n",
       "      <th>4168756</th>\n",
       "      <td>Faro Patente Gacel G2 88/95</td>\n",
       "      <td>CAR_LIGHT_BULBS</td>\n",
       "    </tr>\n",
       "    <tr>\n",
       "      <th>2052017</th>\n",
       "      <td>El Baúl De Juana: Bikini Yamiel 2130  Verano 2017</td>\n",
       "      <td>WOMEN_SWIMWEAR</td>\n",
       "    </tr>\n",
       "  </tbody>\n",
       "</table>\n",
       "<p>107 rows × 2 columns</p>\n",
       "</div>"
      ],
      "text/plain": [
       "                                                       text  \\\n",
       "11642328  Leshp Hdmi 2.0 1x2 Splitter Apoyo Completo Hd ...   \n",
       "11555541  Robofish Nemo Coleccion Buscando A Dory Reyna ...   \n",
       "9204094   Kit Cables De Bujias Chevrolet Corsa Spin Coba...   \n",
       "7544631   Loro Sentido De La Mano Rc Drone Led Luces De ...   \n",
       "14598291           Sandalias Plataforma Con Tachas Livianas   \n",
       "...                                                     ...   \n",
       "2122960   Cable Bujía Ferrazzi Competicion Citroen Bx 1....   \n",
       "11993176  Mesa Rectangular De Marmol Y Bronce Doble Con ...   \n",
       "12978432                           Bandeja Extersa 105 Rec    \n",
       "4168756                        Faro Patente Gacel G2 88/95    \n",
       "2052017   El Baúl De Juana: Bikini Yamiel 2130  Verano 2017   \n",
       "\n",
       "                        category  \n",
       "11642328       COMPUTER_MONITORS  \n",
       "11555541              TOY_ROBOTS  \n",
       "9204094      SPARK_PLUG_WIRESETS  \n",
       "7544631               TOY_ROBOTS  \n",
       "14598291  SANDALS_AND_FLIP_FLOPS  \n",
       "...                          ...  \n",
       "2122960      SPARK_PLUG_WIRESETS  \n",
       "11993176           COFFEE_TABLES  \n",
       "12978432  SERVING_AND_HOME_TRAYS  \n",
       "4168756          CAR_LIGHT_BULBS  \n",
       "2052017           WOMEN_SWIMWEAR  \n",
       "\n",
       "[107 rows x 2 columns]"
      ]
     },
     "execution_count": 78,
     "metadata": {},
     "output_type": "execute_result"
    }
   ],
   "source": [
    "df_input_filtered"
   ]
  },
  {
   "cell_type": "markdown",
   "id": "8e582bfa",
   "metadata": {},
   "source": [
    "### Create embeddings"
   ]
  },
  {
   "cell_type": "markdown",
   "id": "025043fa",
   "metadata": {},
   "source": [
    "What to use: text or [text]? Both actually work\n",
    "\n",
    "- input=text → returns 1 embedding.\n",
    "- input=[text] → also returns 1 embedding (inside a list)."
   ]
  },
  {
   "cell_type": "markdown",
   "id": "cfa4e3ec",
   "metadata": {},
   "source": [
    "##### TODO: clean up raw data"
   ]
  },
  {
   "cell_type": "code",
   "execution_count": 79,
   "id": "b128c4e8",
   "metadata": {},
   "outputs": [],
   "source": [
    "def get_embedding(text, model=\"text-embedding-3-small\"):\n",
    "    # TODO: pre-processing text text = text.replace(\"\\n\", \" \")\n",
    "    return client.embeddings.create(input = [text], model=model).data[0].embedding"
   ]
  },
  {
   "cell_type": "code",
   "execution_count": 80,
   "id": "251a295b",
   "metadata": {},
   "outputs": [],
   "source": [
    "df_input_filtered['embedding_small'] = df_input_filtered['text'].apply(lambda x: get_embedding(x, model='text-embedding-3-small'))"
   ]
  },
  {
   "cell_type": "code",
   "execution_count": null,
   "id": "147e8fba",
   "metadata": {},
   "outputs": [],
   "source": [
    "df_input_filtered = df_input_filtered.reset_index(drop=True)\n",
    "df_input_filtered = df_input_filtered.drop('text', axis = 1)"
   ]
  },
  {
   "cell_type": "code",
   "execution_count": 82,
   "id": "f54a1753",
   "metadata": {},
   "outputs": [
    {
     "data": {
      "text/plain": [
       "1536"
      ]
     },
     "execution_count": 82,
     "metadata": {},
     "output_type": "execute_result"
    }
   ],
   "source": [
    "len(df_input_filtered['embedding_small'][0])"
   ]
  },
  {
   "cell_type": "code",
   "execution_count": 83,
   "id": "f8fcbbf8",
   "metadata": {},
   "outputs": [
    {
     "data": {
      "text/plain": [
       "text                                                                                                                                                                                                                                                                                                                                                                                                                                                                                                                                                                                                                                                                                                                                                                                                                                                                                                                                                                                                                                                                                                                                                                                                                                                                                                                                                                                                                                                                                                                                                                                                                                                                                                                                                                                                                                                                                                                                                                                                                                                                                                                                                                                                                                                                             Leshp Hdmi 2.0 1x2 Splitter Apoyo Completo Hd 4x2k 3d Uno En\n",
       "category                                                                                                                                                                                                                                                                                                                                                                                                                                                                                                                                                                                                                                                                                                                                                                                                                                                                                                                                                                                                                                                                                                                                                                                                                                                                                                                                                                                                                                                                                                                                                                                                                                                                                                                                                                                                                                                                                                                                                                                                                                                                                                                                                                                                                                                                                                                    COMPUTER_MONITORS\n",
       "embedding_small    [-0.019719472154974937, -0.07014696300029755, -0.021238822489976883, 0.0004971997695975006, -0.030943414196372032, -0.0487048476934433, -0.009982781484723091, 0.04446778446435928, -0.012946587055921555, -0.03552286699414253, 0.014936723746359348, 0.012497201561927795, -0.02557218447327614, -0.0033088696654886007, -0.005448801442980766, -0.02775491587817669, -0.009421049617230892, 0.0010773219401016831, 3.527543958625756e-05, 0.06419795751571655, -0.020447049289941788, 0.004130068235099316, 0.07481201738119125, -0.010555213317275047, 0.01772933453321457, -0.03868996724486351, -0.014187747612595558, 0.012069215066730976, -0.0007750565418973565, -0.007960546761751175, 0.016167184337973595, -0.03387511894106865, 0.01201571710407734, -0.03310474380850792, -0.046736110001802444, 0.028782082721590996, -0.03374672308564186, 0.04998880624771118, -0.022191092371940613, -0.026278363540768623, 0.06287119537591934, 0.0023111263290047646, 0.005858063232153654, 0.03473109379410744, 0.023111263290047646, -0.0212281234562397, -0.05602341517806053, 0.029552457854151726, 0.017247850075364113, -0.001429741969332099, -0.021238822489976883, 0.03824058175086975, 0.004895093850791454, 0.04200686141848564, 0.003498788457363844, -0.010758507065474987, 0.03323313966393471, -0.024074232205748558, 0.002293739467859268, 0.0007750565418973565, 0.006976177915930748, -0.015450308099389076, 0.029145872220396996, 0.026727749034762383, -0.005264232400804758, -0.005304356105625629, -0.07853549718856812, -0.018339214846491814, -0.009725989773869514, -0.0016838588053360581, -0.015182816423475742, 0.005585222039371729, -0.004796122200787067, -0.012005017139017582, 0.02353925071656704, 0.045066963881254196, -0.0006319486419670284, 0.0057992152869701385, 0.004279863554984331, -0.031628191471099854, -0.0699329748749733, 0.03854017332196236, -0.04014512151479721, 0.0006463262834586203, 0.031777989119291306, -0.005970409605652094, -0.036164846271276474, -0.0044965315610170364, -0.05777815729379654, 0.012005017139017582, -0.027819113805890083, -0.04063730686903, -0.05790655314922333, -0.04767768085002899, -0.012368805706501007, 0.028653686866164207, 0.0061416043899953365, -0.08165980130434036, 0.010507064871490002, 0.04617972671985626, ...]\n",
       "Name: 0, dtype: object"
      ]
     },
     "execution_count": 83,
     "metadata": {},
     "output_type": "execute_result"
    }
   ],
   "source": [
    "pd.set_option('display.max_colwidth', None)\n",
    "df_input_filtered.iloc[0]"
   ]
  },
  {
   "cell_type": "markdown",
   "id": "5ecdfccb",
   "metadata": {},
   "source": [
    "##### TODO: check embeddings len when saving file"
   ]
  },
  {
   "cell_type": "code",
   "execution_count": 106,
   "id": "45a7ec1d",
   "metadata": {},
   "outputs": [],
   "source": [
    "#TODO check, the len of embeddings increases\n",
    "df_input_filtered.to_csv(f'embeddings/embedded_{n_sample}_products.csv', index=False)"
   ]
  },
  {
   "cell_type": "code",
   "execution_count": 86,
   "id": "d72c38e7",
   "metadata": {},
   "outputs": [],
   "source": [
    "df_embeddings = pd.read_csv('embeddings/embedded_10_products.csv')"
   ]
  },
  {
   "cell_type": "code",
   "execution_count": 88,
   "id": "3f4915b2",
   "metadata": {},
   "outputs": [
    {
     "data": {
      "text/plain": [
       "(0      1536\n",
       " 1      1536\n",
       " 2      1536\n",
       " 3      1536\n",
       " 4      1536\n",
       "        ... \n",
       " 102    1536\n",
       " 103    1536\n",
       " 104    1536\n",
       " 105    1536\n",
       " 106    1536\n",
       " Name: embedding_small, Length: 107, dtype: int64,\n",
       " 0     34172\n",
       " 1     34221\n",
       " 2     34257\n",
       " 3     34204\n",
       " 4     34178\n",
       "       ...  \n",
       " 92    34231\n",
       " 93    34252\n",
       " 94    34191\n",
       " 95    34168\n",
       " 96    34237\n",
       " Name: embedding_small, Length: 97, dtype: int64)"
      ]
     },
     "execution_count": 88,
     "metadata": {},
     "output_type": "execute_result"
    }
   ],
   "source": [
    "df_input_filtered['embedding_small'].map(len), df_embeddings['embedding_small'].map(len)"
   ]
  },
  {
   "cell_type": "markdown",
   "id": "6665b7db",
   "metadata": {},
   "source": [
    "### Split with stratification"
   ]
  },
  {
   "cell_type": "code",
   "execution_count": 90,
   "id": "9a2c58c7",
   "metadata": {},
   "outputs": [],
   "source": [
    "X_train, X_test, y_train, y_test = train_test_split(df_input_filtered['embedding_small'], df_input_filtered['category'], \n",
    "                                                      test_size=0.3, random_state=42, stratify=df_input_filtered['category'])"
   ]
  },
  {
   "cell_type": "code",
   "execution_count": 95,
   "id": "2862f8f7",
   "metadata": {},
   "outputs": [
    {
     "data": {
      "text/plain": [
       "(74, 33, (74,), (74,))"
      ]
     },
     "execution_count": 95,
     "metadata": {},
     "output_type": "execute_result"
    }
   ],
   "source": [
    "len(X_train) , len(X_test), X_train.shape, y_train.shape"
   ]
  },
  {
   "cell_type": "code",
   "execution_count": 92,
   "id": "a1c15818",
   "metadata": {},
   "outputs": [
    {
     "data": {
      "text/plain": [
       "37    [0.021981798112392426, -0.04122736677527428, -...\n",
       "64    [0.01887599192559719, -0.0016054322477430105, ...\n",
       "47    [0.00400319742038846, 0.021482350304722786, 0....\n",
       "31    [0.028445715084671974, -0.030287211760878563, ...\n",
       "25    [0.050353433936834335, -0.049755536019802094, ...\n",
       "Name: embedding_small, dtype: object"
      ]
     },
     "execution_count": 92,
     "metadata": {},
     "output_type": "execute_result"
    }
   ],
   "source": [
    "X_train.head()"
   ]
  },
  {
   "cell_type": "markdown",
   "id": "367a17ee",
   "metadata": {},
   "source": [
    "scikit-learn\n",
    "fit(X, y, sample_weight=None)\n",
    "\n",
    "X_train is a serie of list, but RandomForestClassifier needs 2D array\n",
    "X: {array-like, sparse matrix} of shape (`n_samples`, `n_features`)"
   ]
  },
  {
   "cell_type": "code",
   "execution_count": null,
   "id": "7311dd4f",
   "metadata": {},
   "outputs": [
    {
     "data": {
      "text/plain": [
       "((74, 1536), (33, 1536))"
      ]
     },
     "execution_count": 99,
     "metadata": {},
     "output_type": "execute_result"
    }
   ],
   "source": [
    "# convert serie to list\n",
    "import numpy as np\n",
    "X_train = np.array(X_train.tolist())\n",
    "X_test  = np.array(X_test.tolist())\n",
    "\n",
    "X_train.shape, X_test.shape"
   ]
  },
  {
   "cell_type": "markdown",
   "id": "6f2402da",
   "metadata": {},
   "source": [
    "### Model and Train: RandomForestClassifier"
   ]
  },
  {
   "cell_type": "code",
   "execution_count": 100,
   "id": "cb26a3fe",
   "metadata": {},
   "outputs": [],
   "source": [
    "from sklearn.ensemble import RandomForestClassifier\n",
    "from sklearn.metrics import classification_report, accuracy_score\n",
    "\n",
    "clf = RandomForestClassifier(n_estimators=200)\n",
    "clf.fit(X_train, y_train)\n",
    "preds = clf.predict(X_test)"
   ]
  },
  {
   "cell_type": "code",
   "execution_count": 101,
   "id": "ac2a0d9d",
   "metadata": {},
   "outputs": [
    {
     "name": "stdout",
     "output_type": "stream",
     "text": [
      "                              precision    recall  f1-score   support\n",
      "\n",
      "          AUTOMOTIVE_EMBLEMS       1.00      1.00      1.00         1\n",
      "AUTOMOTIVE_SIDE_VIEW_MIRRORS       1.00      1.00      1.00         1\n",
      "            BATHROOM_FAUCETS       1.00      1.00      1.00         1\n",
      "             CAR_LIGHT_BULBS       0.00      0.00      0.00         1\n",
      "               COFFEE_TABLES       1.00      1.00      1.00         1\n",
      "           COMPUTER_MONITORS       1.00      1.00      1.00         1\n",
      "                  DEODORANTS       1.00      0.50      0.67         2\n",
      "                FLOOD_LIGHTS       0.67      1.00      0.80         2\n",
      "                    HANDBAGS       0.33      1.00      0.50         2\n",
      "                KITCHEN_POTS       1.00      1.00      1.00         1\n",
      "             LAPTOP_CHARGERS       1.00      1.00      1.00         1\n",
      "                  LED_STRIPS       1.00      1.00      1.00         1\n",
      "          MOTORCYCLE_HELMETS       1.00      1.00      1.00         1\n",
      "   MOTORCYCLE_IGNITION_COILS       1.00      1.00      1.00         1\n",
      "           MULTI_TOOL_KNIVES       1.00      1.00      1.00         1\n",
      "              OUTDOOR_TABLES       0.67      1.00      0.80         2\n",
      "                     PANTIES       0.00      0.00      0.00         2\n",
      "PERSONAL_LUBRICANTS_AND_GELS       0.50      1.00      0.67         1\n",
      "                      PLANTS       0.00      0.00      0.00         2\n",
      "      SANDALS_AND_FLIP_FLOPS       1.00      0.50      0.67         2\n",
      "      SERVING_AND_HOME_TRAYS       1.00      1.00      1.00         2\n",
      "                   SOUVENIRS       0.50      1.00      0.67         1\n",
      "         SPARK_PLUG_WIRESETS       1.00      1.00      1.00         1\n",
      "                  TOY_ROBOTS       1.00      1.00      1.00         1\n",
      "              WOMEN_SWIMWEAR       0.00      0.00      0.00         1\n",
      "\n",
      "                    accuracy                           0.76        33\n",
      "                   macro avg       0.75      0.80      0.75        33\n",
      "                weighted avg       0.71      0.76      0.70        33\n",
      "\n"
     ]
    },
    {
     "name": "stderr",
     "output_type": "stream",
     "text": [
      "/home/marifra/miniconda3/lib/python3.10/site-packages/sklearn/metrics/_classification.py:1471: UndefinedMetricWarning: Precision and F-score are ill-defined and being set to 0.0 in labels with no predicted samples. Use `zero_division` parameter to control this behavior.\n",
      "  _warn_prf(average, modifier, msg_start, len(result))\n",
      "/home/marifra/miniconda3/lib/python3.10/site-packages/sklearn/metrics/_classification.py:1471: UndefinedMetricWarning: Precision and F-score are ill-defined and being set to 0.0 in labels with no predicted samples. Use `zero_division` parameter to control this behavior.\n",
      "  _warn_prf(average, modifier, msg_start, len(result))\n",
      "/home/marifra/miniconda3/lib/python3.10/site-packages/sklearn/metrics/_classification.py:1471: UndefinedMetricWarning: Precision and F-score are ill-defined and being set to 0.0 in labels with no predicted samples. Use `zero_division` parameter to control this behavior.\n",
      "  _warn_prf(average, modifier, msg_start, len(result))\n"
     ]
    }
   ],
   "source": [
    "from sklearn.metrics import classification_report\n",
    "\n",
    "report = classification_report(y_test,preds)\n",
    "print(report)"
   ]
  }
 ],
 "metadata": {
  "kernelspec": {
   "display_name": "base",
   "language": "python",
   "name": "python3"
  },
  "language_info": {
   "codemirror_mode": {
    "name": "ipython",
    "version": 3
   },
   "file_extension": ".py",
   "mimetype": "text/x-python",
   "name": "python",
   "nbconvert_exporter": "python",
   "pygments_lexer": "ipython3",
   "version": "3.10.10"
  }
 },
 "nbformat": 4,
 "nbformat_minor": 5
}
